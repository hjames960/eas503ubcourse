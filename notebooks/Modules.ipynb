{
 "cells": [
  {
   "cell_type": "markdown",
   "metadata": {},
   "source": [
    " # Programming and Database Fundamentals for Data Scientists - EAS503\n"
   ]
  },
  {
   "cell_type": "markdown",
   "metadata": {},
   "source": [
    "## Python Modules\n",
    "In a typical `Python` program, you define functions. By default, a user defined function is only available to the file in which it is defined. If you want to use the function in another code file (or in other interactive `Python` session), you will have to _copy_ that function there as well.\n",
    "\n",
    "Clearly, that is not efficient. Luckily, `Python` allows for defining functions in a way such that they can be used in other files (or other interactive `Python` session).\n",
    "\n",
    "The simplest solution is to put the function(s) in a file (also known as a **module**) and then _import_ that module in the main code (also known as the main module).\n",
    "\n",
    "### Module\n",
    "A _module_ is a file containing `Python` definitions and statement. It is a file with suffix `.py` appended. \n",
    "#### Global Variable `__name__`\n",
    "The global variable `__name__` contains the name of a module."
   ]
  },
  {
   "cell_type": "code",
   "execution_count": 1,
   "metadata": {},
   "outputs": [
    {
     "name": "stdout",
     "output_type": "stream",
     "text": [
      "__main__\n"
     ]
    }
   ],
   "source": [
    "print(__name__)"
   ]
  },
  {
   "cell_type": "markdown",
   "metadata": {},
   "source": [
    "#### Example\n",
    "Let us define two functions that perform a mathematical operation. Create a file called `myfuncs.py` with following lines:\n",
    "```python\n",
    "def sum2(x,y):\n",
    "    return pow(x,2) + pow(y,2)\n",
    "\n",
    "def sum3(x,y):\n",
    "    return pow(x,3) + pow(y,3)\n",
    "\n",
    "```\n",
    "\n",
    "How do I use these two functions, defined in the module `myfuncs.py`, in the notebook here.\n",
    "\n",
    "Simple, we use the keyword `import`"
   ]
  },
  {
   "cell_type": "code",
   "execution_count": null,
   "metadata": {},
   "outputs": [],
   "source": [
    "myfuncs.sum2(3,4)"
   ]
  },
  {
   "cell_type": "code",
   "execution_count": null,
   "metadata": {},
   "outputs": [],
   "source": [
    "myfuncs.sum3(3,4)"
   ]
  },
  {
   "cell_type": "markdown",
   "metadata": {},
   "source": [
    "When we use `import myfuncs`, the module name is entered into the current symbol table (use `dir()` function to list the contents). Using the module name, `myfuncs`, we can access the functions (and variables) defined inside the module."
   ]
  },
  {
   "cell_type": "code",
   "execution_count": 7,
   "metadata": {},
   "outputs": [
    {
     "data": {
      "text/plain": [
       "'myfuncs'"
      ]
     },
     "execution_count": 7,
     "metadata": {},
     "output_type": "execute_result"
    }
   ],
   "source": [
    "myfuncs.__name__"
   ]
  },
  {
   "cell_type": "markdown",
   "metadata": {},
   "source": [
    "A module can contain executable statements as well as function definitions. The statements are run only the _first_ time the module is imported. \n",
    "\n",
    "This also means that if you update a module during an interactive session, you will have to reload the module.\n",
    "\n",
    "Example, in the `myfuncs.py` file, add a global print statement to the top of the file.\n",
    "```python\n",
    "print('Initializing the module')\n",
    "```"
   ]
  },
  {
   "cell_type": "code",
   "execution_count": 3,
   "metadata": {},
   "outputs": [],
   "source": [
    "import myfuncs"
   ]
  },
  {
   "cell_type": "markdown",
   "metadata": {},
   "source": [
    "Modules can import other modules. It is customary to place all import statements at the top of your code, though it is not a requirement.\n",
    "\n",
    "Importing specific functions from a module is also possible using the keyword `from`"
   ]
  },
  {
   "cell_type": "code",
   "execution_count": 4,
   "metadata": {},
   "outputs": [],
   "source": [
    "from myfuncs import sum2"
   ]
  },
  {
   "cell_type": "markdown",
   "metadata": {},
   "source": [
    "This does not introduce the module name from which the imports are taken in the local symbol table.\n",
    "\n",
    "You can also import all functions in a module:"
   ]
  },
  {
   "cell_type": "code",
   "execution_count": 6,
   "metadata": {},
   "outputs": [],
   "source": [
    "from myfuncs import *"
   ]
  },
  {
   "cell_type": "markdown",
   "metadata": {},
   "source": [
    "However, importing everything using `*` is not a good practice, since it causes poorly readable code. It does save on typing."
   ]
  },
  {
   "cell_type": "markdown",
   "metadata": {},
   "source": [
    "#### Renaming imports\n",
    "Sometimes you might want to _rename_ the imported module (for readability or avoiding conflicts). This can be done using the keyword `as`."
   ]
  },
  {
   "cell_type": "code",
   "execution_count": 8,
   "metadata": {},
   "outputs": [
    {
     "data": {
      "text/plain": [
       "41"
      ]
     },
     "execution_count": 8,
     "metadata": {},
     "output_type": "execute_result"
    }
   ],
   "source": [
    "import myfuncs as myfunctions\n",
    "myfunctions.sum2(4,5)"
   ]
  },
  {
   "cell_type": "code",
   "execution_count": 9,
   "metadata": {},
   "outputs": [
    {
     "data": {
      "text/plain": [
       "41"
      ]
     },
     "execution_count": 9,
     "metadata": {},
     "output_type": "execute_result"
    }
   ],
   "source": [
    "from myfuncs import sum2 as sumsquared\n",
    "sumsquared(4,5)"
   ]
  },
  {
   "cell_type": "markdown",
   "metadata": {},
   "source": [
    "### Executing modules as scripts\n",
    "What if I want to have some statements in the module that I want to run as a script.\n",
    "\n",
    "For example, add the following lines to `myfuncs.py`:\n",
    "```python\n",
    "print(sum2(4,5))\n",
    "```\n",
    "And then run the file from command line:\n",
    "```shell\n",
    "python myfuncs.py\n",
    "```\n",
    "This will get the desired output. However, if I import this file, the same code will run at import time. This is undesirable.\n",
    "\n",
    "To avoid this, we will use the global variable `__name__` which will be set to `__main__` only if the module is being executed as a `Python` file.\n",
    "\n",
    "To achieve this, modify the statement as:\n",
    "```python\n",
    "if __name__ == \"__main__\":\n",
    "    print(sum2(4,5))\n",
    "```\n",
    "The above statement will only be executed if the module is executed as a `Python` file, but not when it is imported.\n",
    "\n",
    "This is useful, if you create a module and add a few tests as part of the module."
   ]
  },
  {
   "cell_type": "markdown",
   "metadata": {},
   "source": [
    "## `Python` Packages\n",
    "Packages allows for structuring modules in `Python` by using \"dotted module names\". For instance, you can have a package `A`, that consists of modules `b` and `c`. These will be accessed as `A.b` and `A.c`, respectively.\n",
    "\n",
    "By structuring modules within a package, one does not have to worry about conflicts between the global variable names of `b` and `c`. Additionally, often, the module collection within a pacakge, allows you to naturally differentiate between different types of capabilities. \n",
    "\n",
    "> For example, you might be developing a collection of functions that allow you to analyze urban data. You might want to implement three different types of functionalities. \n",
    "    - First is to be able to import different formats of data - csv, database, excel, binary format, text, etc.\n",
    "    - Second is to be able to apply preprocessing operations on the data - normalization, feature selection, sampling, etc.\n",
    "    - Third is to be able to apply different types of machine learning functions - classification, clustering, etc.\n",
    "Now, instead of creating one module and creating a long list of functions, one could create three modules, one for each \"class\" of operations (io, preprocess, and analysis), and then define functions within each module. \n",
    "\n",
    "> These modules can then be \"collected\" into one \"package\". Here is a possible directory/file structure that forms a valid `Python` package:\n",
    "* urbanscience/\n",
    "    * \\_\\_init.py\\_\\_\n",
    "    * io/\n",
    "        - \\_\\_init.py\\_\\_\n",
    "        - textread.py\n",
    "        - textwrite.py\n",
    "        - csvread.py\n",
    "        - csvwrite.py\n",
    "        - ...\n",
    "    * preprocess/\n",
    "        - \\_\\_init.py\\_\\_\n",
    "        - normalize.py\n",
    "        - sampling.py\n",
    "        - ...\n",
    "    * analysis/\n",
    "        - \\_\\_init.py\\_\\_\n",
    "        - svm.py\n",
    "        - ...\n",
    "\n",
    "> The role of the `\\_\\_init\\_\\_.py` is to tell `Python` to treat the directory as a package. The use of this file ensures that one can ignore certain directories that we do not intend to be treated as a package. \\_\\_init\\_\\_.py can just be an empty file, but it can also execute initialization code for the package or set the \\_\\_all\\_\\_ variable, described later.\n",
    "\n",
    "> You can then `import` the package as:\n",
    "```python\n",
    "import urbanscience as us\n",
    "```\n",
    "Or just a subpackage\n",
    "```python\n",
    "import urbanscience.preprocess as usp\n",
    "```\n",
    "Or a specific module\n",
    "```python\n",
    "import urbanscience.preprocess.sampling as sm\n",
    "```\n",
    "This can also be done as:\n",
    "```python\n",
    "from urbanscience.preprocess import sampling as sm\n",
    "```\n",
    "\n",
    "The last two imports have the same effect in the above example. However, there is an important difference in the two.\n",
    "\n",
    "When using `from package import item`, the `item` can either be a subpackage of the package or a module or a name defined within the package (variable, function, or class).\n",
    "\n",
    "However, when using `import package.item1.item2`, the items except for the last one should be package or subpackage, and the last item should be a package or a module, but not a variable, function, or a class defined within the package."
   ]
  },
  {
   "cell_type": "markdown",
   "metadata": {},
   "source": [
    "#### Importing * from a package\n",
    "If you do \n",
    "```python\n",
    "from package-name import *\n",
    "```\n",
    "all subpackages, modules, variables, etc., within the package are loaded. This could take a very long-time and should be avoided.\n",
    "\n",
    "While the user can avoid this by avoiding `*` in import statements, the package creator can help by defining a `\\_\\_all\\_\\_` list in `\\_\\_init\\_\\_.py` file that lists the submodules that should be imported when `*` is used."
   ]
  },
  {
   "cell_type": "markdown",
   "metadata": {},
   "source": [
    "### How does `Python` find a package\n",
    "When we import a package, `Python` searches through the directories defined in `sys.path` to look for a directory corresponding to the specified package."
   ]
  },
  {
   "cell_type": "code",
   "execution_count": 23,
   "metadata": {},
   "outputs": [
    {
     "data": {
      "text/plain": [
       "['',\n",
       " '/anaconda3/lib/python36.zip',\n",
       " '/anaconda3/lib/python3.6',\n",
       " '/anaconda3/lib/python3.6/lib-dynload',\n",
       " '/anaconda3/lib/python3.6/site-packages',\n",
       " '/anaconda3/lib/python3.6/site-packages/aeosa',\n",
       " '/anaconda3/lib/python3.6/site-packages/IPython/extensions',\n",
       " '/Users/chandola/.ipython']"
      ]
     },
     "execution_count": 23,
     "metadata": {},
     "output_type": "execute_result"
    }
   ],
   "source": [
    "import sys\n",
    "sys.path"
   ]
  },
  {
   "cell_type": "markdown",
   "metadata": {},
   "source": [
    "Note that this contains the current directory as well."
   ]
  }
 ],
 "metadata": {
  "kernelspec": {
   "display_name": "Python 3",
   "language": "python",
   "name": "python3"
  },
  "language_info": {
   "codemirror_mode": {
    "name": "ipython",
    "version": 3
   },
   "file_extension": ".py",
   "mimetype": "text/x-python",
   "name": "python",
   "nbconvert_exporter": "python",
   "pygments_lexer": "ipython3",
   "version": "3.6.4"
  }
 },
 "nbformat": 4,
 "nbformat_minor": 2
}
