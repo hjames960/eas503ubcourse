{
 "cells": [
  {
   "cell_type": "markdown",
   "metadata": {},
   "source": [
    " # Programming and Database Fundamentals for Data Scientists - EAS503\n",
    " While Python provides many (over 50) built in functions for the programmers to use, we will look at a few important ones.\n",
    " \n",
    "### Math\n",
    "`abs`, `complex`,`divmod`, `hex`, `max`, `min`, `oct`, `pow`, `round`, etc.\n",
    "\n",
    "### Type Conversion/Handling\n",
    "`bin`, `bool`, `chr`, `dict`, `float`, `frozenset`, `int`, `list`, `long`, `set`, etc.\n",
    "\n",
    "### Handling sequences\n",
    "`del`,`all`,`any`,`enumerate`,`next`,`sorted`\n",
    "\n",
    "### Functional operations\n",
    "`filter`, `map`, `reduce`"
   ]
  },
  {
   "cell_type": "code",
   "execution_count": 12,
   "metadata": {},
   "outputs": [
    {
     "name": "stdout",
     "output_type": "stream",
     "text": [
      "[True, True, True, False]\n",
      "False\n"
     ]
    }
   ],
   "source": [
    "# all - returns True if all elements in an iterable are true\n",
    "x = [3,5,4,1]\n",
    "x1 = [_x > 1 for _x in x]\n",
    "print(x1)\n",
    "print(all(x1))\n"
   ]
  },
  {
   "cell_type": "code",
   "execution_count": 15,
   "metadata": {},
   "outputs": [
    {
     "name": "stdout",
     "output_type": "stream",
     "text": [
      "[False, False, False, False]\n",
      "False\n"
     ]
    }
   ],
   "source": [
    "# any - returns True if at least one element in an iterable is true\n",
    "x = [3,5,4,1]\n",
    "x1 = [_x > 6 for _x in x]\n",
    "print(x1)\n",
    "print(any(x1))\n"
   ]
  },
  {
   "cell_type": "markdown",
   "metadata": {},
   "source": [
    "## Filter and map\n",
    "These built-in functions do not provide any performance benefits, but do make the code cleaner"
   ]
  },
  {
   "cell_type": "code",
   "execution_count": 31,
   "metadata": {},
   "outputs": [
    {
     "name": "stdout",
     "output_type": "stream",
     "text": [
      "['Washington', 'Jefferson', 'Madison', 'Monroe']\n"
     ]
    }
   ],
   "source": [
    "# I want to remove all entries in a list that contain a certain pattern\n",
    "l = ['Washington','Adams','Jefferson','Madison','Monroe','Adams','Van Buren']\n",
    "# get all entries that have substring 'on' in them\n",
    "#option 1:\n",
    "newl = []\n",
    "for _l in l:\n",
    "    if 'on' in _l:\n",
    "        newl.append(_l)\n",
    "print(newl)"
   ]
  },
  {
   "cell_type": "markdown",
   "metadata": {},
   "source": [
    "### Using filter"
   ]
  },
  {
   "cell_type": "code",
   "execution_count": 32,
   "metadata": {},
   "outputs": [
    {
     "name": "stdout",
     "output_type": "stream",
     "text": [
      "['Washington', 'Jefferson', 'Madison', 'Monroe']\n"
     ]
    }
   ],
   "source": [
    "# First define an appropriate function\n",
    "def myfun(x):\n",
    "    if 'on' in x:\n",
    "        return True\n",
    "    else:\n",
    "        return False\n",
    "    #equivalently one can say\n",
    "    #return 'on' in x\n",
    "newl = list(filter(myfun,l))\n",
    "print(newl)\n"
   ]
  },
  {
   "cell_type": "code",
   "execution_count": 35,
   "metadata": {},
   "outputs": [
    {
     "name": "stdout",
     "output_type": "stream",
     "text": [
      "['Washington', 'Jefferson', 'Madison', 'Monroe']\n"
     ]
    }
   ],
   "source": [
    "#note that the above statement is same as writing\n",
    "newl = [_x for _x in l if myfun(_x)]\n",
    "print(newl)\n",
    "#the implementation is a little cleaner with filter"
   ]
  },
  {
   "cell_type": "markdown",
   "metadata": {},
   "source": [
    "#### Using lambda functions"
   ]
  },
  {
   "cell_type": "code",
   "execution_count": 37,
   "metadata": {},
   "outputs": [
    {
     "name": "stdout",
     "output_type": "stream",
     "text": [
      "['Washington', 'Jefferson', 'Madison', 'Monroe']\n"
     ]
    }
   ],
   "source": [
    "# Often defining a function using def requires too much coding\n",
    "# Instead one can define inline functions using lambda keyword\n",
    "newl = list(filter(lambda x: 'on' in x ,l))\n",
    "print(newl)"
   ]
  },
  {
   "cell_type": "markdown",
   "metadata": {},
   "source": [
    "The `lambda` function is only valid for the statement within which it is defined."
   ]
  },
  {
   "cell_type": "markdown",
   "metadata": {},
   "source": [
    "### Using map\n",
    "The `map` function is useful when you want to apply one function to every item in a sequence"
   ]
  },
  {
   "cell_type": "code",
   "execution_count": 39,
   "metadata": {},
   "outputs": [
    {
     "name": "stdout",
     "output_type": "stream",
     "text": [
      "['Washington', 'Adams', 'Jefferson', 'Madison', 'Monroe', 'Adams', 'Van buren']\n"
     ]
    }
   ],
   "source": [
    "# capitalize every entry in a list\n",
    "l = ['washington','adams','jefferson','madison','monroe','adams','van Buren']\n",
    "newl = list(map(lambda x: x.capitalize(), l))\n",
    "print(newl)"
   ]
  },
  {
   "cell_type": "code",
   "execution_count": 41,
   "metadata": {},
   "outputs": [
    {
     "name": "stdout",
     "output_type": "stream",
     "text": [
      "['George Washington', 'John Adams', 'Thomas Jefferson', 'James Madison', 'James Monroe', 'John Adams', 'Martin Van buren']\n"
     ]
    }
   ],
   "source": [
    "#map can be applied to multiple lists\n",
    "l1 = ['washington','adams','jefferson','madison','monroe','adams','van Buren']\n",
    "l2 = ['george','john','thomas','james','james','john','martin']\n",
    "#connect the first and last names and capitalize accordingly\n",
    "newl = list(map(lambda x,y: y.capitalize()+\" \"+x.capitalize(), l1,l2))\n",
    "print(newl)"
   ]
  },
  {
   "cell_type": "markdown",
   "metadata": {},
   "source": [
    "### Using zip\n",
    "Another useful function to make simultaneously iterating over multiple lists easy"
   ]
  },
  {
   "cell_type": "code",
   "execution_count": 47,
   "metadata": {},
   "outputs": [
    {
     "name": "stdout",
     "output_type": "stream",
     "text": [
      "['George Washington (First)', 'John Adams (Second)', 'Thomas Jefferson (Third)', 'James Madison (Four)', 'James Monroe (Five)', 'John Adams (Six)', 'Martin Van buren (Seven)']\n"
     ]
    }
   ],
   "source": [
    "l1 = ['washington','adams','jefferson','madison','monroe','adams','van Buren']\n",
    "l2 = ['george','john','thomas','james','james','john','martin']\n",
    "l3 = ['First','Second','Third','Four','Five','Six','Seven']\n",
    "newl = []\n",
    "for i,j,k in zip(l2,l1,l3):\n",
    "    newl.append(i.capitalize()+' '+j.capitalize()+' ('+k+')')\n",
    "print(newl)"
   ]
  },
  {
   "cell_type": "markdown",
   "metadata": {},
   "source": [
    "### Working with loops"
   ]
  },
  {
   "cell_type": "code",
   "execution_count": 1,
   "metadata": {
    "collapsed": true
   },
   "outputs": [],
   "source": [
    "# break\n",
    "# continue\n",
    "# next\n",
    "# pass"
   ]
  }
 ],
 "metadata": {
  "kernelspec": {
   "display_name": "Python 3",
   "language": "python",
   "name": "python3"
  },
  "language_info": {
   "codemirror_mode": {
    "name": "ipython",
    "version": 3
   },
   "file_extension": ".py",
   "mimetype": "text/x-python",
   "name": "python",
   "nbconvert_exporter": "python",
   "pygments_lexer": "ipython3",
   "version": "3.6.4"
  }
 },
 "nbformat": 4,
 "nbformat_minor": 2
}
