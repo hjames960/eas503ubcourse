{
 "cells": [
  {
   "cell_type": "markdown",
   "metadata": {},
   "source": [
    "# Programming and Database Fundamentals for Data Scientists - EAS503"
   ]
  },
  {
   "cell_type": "markdown",
   "metadata": {},
   "source": [
    "## Dealing with data types\n",
    "\n",
    "`Python` has five standard Data Types:\n",
    "- Numbers\n",
    "- String\n",
    "- List\n",
    "- Tuple\n",
    "- Dictionary\n",
    "\n",
    "Python sets the variable type based on the value that is assigned to it. Python will change the variable type if the variable value is set to another value. For example:"
   ]
  },
  {
   "cell_type": "code",
   "execution_count": null,
   "metadata": {},
   "outputs": [],
   "source": [
    "height = 10.4\n",
    "print(type(height))\n",
    "height = 'tall'\n",
    "print(type(height))"
   ]
  },
  {
   "cell_type": "markdown",
   "metadata": {},
   "source": [
    "`Python` also allows operations on some types of variables with different data types. However, for others, trying to operate between two data types might lead to an error. For example:"
   ]
  },
  {
   "cell_type": "code",
   "execution_count": null,
   "metadata": {},
   "outputs": [],
   "source": [
    "height = 10.2\n",
    "tall = True\n",
    "s = '4.3'"
   ]
  },
  {
   "cell_type": "code",
   "execution_count": null,
   "metadata": {},
   "outputs": [],
   "source": [
    "height + tall"
   ]
  },
  {
   "cell_type": "code",
   "execution_count": null,
   "metadata": {},
   "outputs": [],
   "source": [
    "# Strongly typed language\n",
    "height + s"
   ]
  },
  {
   "cell_type": "code",
   "execution_count": null,
   "metadata": {},
   "outputs": [],
   "source": [
    "-1.23\n",
    "123"
   ]
  },
  {
   "cell_type": "markdown",
   "metadata": {},
   "source": [
    "### Numbers"
   ]
  },
  {
   "cell_type": "code",
   "execution_count": null,
   "metadata": {},
   "outputs": [],
   "source": [
    "var = 382"
   ]
  },
  {
   "cell_type": "markdown",
   "metadata": {},
   "source": [
    "Most of the time using the standard Python number type is fine. Python will automatically convert a number from one type to another if it needs. But, under certain circumstances that a specific number type is needed (ie. complex, hexidecimal), the format can be forced into a format by using additional syntax in the table below:\n",
    "\n",
    "| Type  | Format | Description |\n",
    "|---------|----------------|-------------|\n",
    "| int\t  |a = 10\t   |Signed Integer|\n",
    "| float\t  |a = 45.67   |(.) Floating point real values|\n",
    "| complex |a = 3.14J   |(J) Contains integer in the range 0 to 255.|\n",
    " \t \t \t \t \t \t \n",
    "Most of the time Python will do variable conversion automatically. You can also use Python conversion functions (int(), long(), float(), complex()) to convert data from one type to another."
   ]
  },
  {
   "cell_type": "markdown",
   "metadata": {},
   "source": [
    "#### Integers\n",
    "In `Python` (3), the largest allowed integer is not pre-determined, but depends on the available memory."
   ]
  },
  {
   "cell_type": "code",
   "execution_count": null,
   "metadata": {},
   "outputs": [],
   "source": [
    "x = 9999999999999999999999999999999999999999999999999999\n",
    "print(x)\n",
    "print(type(x))"
   ]
  },
  {
   "cell_type": "markdown",
   "metadata": {},
   "source": [
    "#### Float\n",
    "The `float` type designates a number with a decimal point. \n",
    "\n",
    "In **scientific notation**, one can use the character `e` or `E` to denote a floating point number."
   ]
  },
  {
   "cell_type": "code",
   "execution_count": null,
   "metadata": {},
   "outputs": [],
   "source": [
    "a = 4.2\n",
    "print(type(a))"
   ]
  },
  {
   "cell_type": "code",
   "execution_count": null,
   "metadata": {},
   "outputs": [],
   "source": [
    "a = 2e3\n",
    "print(a)\n",
    "print(type(a))"
   ]
  },
  {
   "cell_type": "code",
   "execution_count": null,
   "metadata": {},
   "outputs": [],
   "source": [
    "a = 4.2e-2\n",
    "print(a)\n",
    "print(type(a))"
   ]
  },
  {
   "cell_type": "markdown",
   "metadata": {},
   "source": [
    "_Storage_: A `float` is stored in a `double-precision` format (64 bits). Typically, the largest size floating point number is approximately $1.8 \\times 10^{308}$. Smallest floating point number that one can use is approximately $5.0 \\times 10^{-324}$."
   ]
  },
  {
   "cell_type": "code",
   "execution_count": null,
   "metadata": {},
   "outputs": [],
   "source": [
    "largefloat = 1.79e308\n",
    "print(largefloat)"
   ]
  },
  {
   "cell_type": "code",
   "execution_count": null,
   "metadata": {},
   "outputs": [],
   "source": [
    "largefloat = 1.8e308\n",
    "print(largefloat)"
   ]
  },
  {
   "cell_type": "code",
   "execution_count": null,
   "metadata": {},
   "outputs": [],
   "source": [
    "smallfloat = 5.0e-324\n",
    "print(smallfloat)"
   ]
  },
  {
   "cell_type": "code",
   "execution_count": null,
   "metadata": {},
   "outputs": [],
   "source": [
    "smallfloat = 1e-325\n",
    "print(smallfloat)"
   ]
  },
  {
   "cell_type": "code",
   "execution_count": null,
   "metadata": {},
   "outputs": [],
   "source": [
    "import sys\n",
    "aint = 1000\n",
    "print(sys.getsizeof(aint))\n",
    "afloat = 2.3707969876878768e-10\n",
    "print(sys.getsizeof(afloat))"
   ]
  },
  {
   "cell_type": "markdown",
   "metadata": {},
   "source": [
    "**Quick question** - Why bother with `int` at all? Why not use `float` for representing all numbers.\n",
    "\n",
    "_Answer_ - Using `int` is more efficient, both in terms of storage and computation.\n",
    "\n",
    "In general, floating point arithmetic is much more expensive than integer. Moreover, `float` is actually an approximation while `int` is exact."
   ]
  },
  {
   "cell_type": "code",
   "execution_count": null,
   "metadata": {},
   "outputs": [],
   "source": [
    "# using int\n",
    "a = 1000000000000000000000000000\n",
    "print(a == a+1)"
   ]
  },
  {
   "cell_type": "code",
   "execution_count": null,
   "metadata": {},
   "outputs": [],
   "source": [
    "# using float\n",
    "a = 1000000000000000000000000000.0\n",
    "print(a == a+1)"
   ]
  },
  {
   "cell_type": "markdown",
   "metadata": {},
   "source": [
    "## Sequence data structures in Python\n",
    "While basic data types allow you to create one variable at a time, in most practical applications (especially for data science), one needs to manipulate a large collection of variables. Clearly, creating one variable for each data element is very inefficient. All modern programming languages, including `Python`, allows for creation of data types that are collections of variables. Two broad categories of such collections are defined in `Python` - sequences and non-sequences.\n",
    "\n",
    "Python defines several sequence data structures. While each data structure has its own characteristics, they all satisfy a core set of operations, that includes:\n",
    "\n",
    "|Operation| Description|\n",
    "|------|------|\n",
    "|`len(s)`| **Finding length**|\n",
    "|`s1 + s2`| **Concatenation**|\n",
    "|`s*4`| **Repetition**|\n",
    "| `x in s`| **Membership**|\n",
    "|`for x in` s| **Iteration**|"
   ]
  },
  {
   "cell_type": "markdown",
   "metadata": {},
   "source": [
    "## Python Lists\n",
    "One of the most versatile data types in `Python`."
   ]
  },
  {
   "cell_type": "code",
   "execution_count": null,
   "metadata": {},
   "outputs": [],
   "source": [
    "l = ['red','blue','green']\n",
    "print(l)\n",
    "print(type(l))"
   ]
  },
  {
   "cell_type": "code",
   "execution_count": null,
   "metadata": {},
   "outputs": [],
   "source": [
    "print(len(l))"
   ]
  },
  {
   "cell_type": "code",
   "execution_count": null,
   "metadata": {},
   "outputs": [],
   "source": [
    "## python indexing starts from 0\n",
    "print(l[0])\n",
    "print(l[1])"
   ]
  },
  {
   "cell_type": "markdown",
   "metadata": {},
   "source": [
    "`Python` lists also support reverse indexing, by using a negative index."
   ]
  },
  {
   "cell_type": "code",
   "execution_count": null,
   "metadata": {},
   "outputs": [],
   "source": [
    "print(l[-1])"
   ]
  },
  {
   "cell_type": "code",
   "execution_count": null,
   "metadata": {},
   "outputs": [],
   "source": [
    "print(l[len(l)-1])"
   ]
  },
  {
   "cell_type": "markdown",
   "metadata": {},
   "source": [
    "A `list` can contain any type of data type and allows for a mix of data types."
   ]
  },
  {
   "cell_type": "code",
   "execution_count": null,
   "metadata": {},
   "outputs": [],
   "source": [
    "l = [3,4,'garfield','chester',4.3]\n",
    "print(l)"
   ]
  },
  {
   "cell_type": "code",
   "execution_count": null,
   "metadata": {},
   "outputs": [],
   "source": [
    "l1 = ['3', 4, 'five', [4.4, 2.3]]\n",
    "print(l1)"
   ]
  },
  {
   "cell_type": "markdown",
   "metadata": {},
   "source": [
    "##### Concatenation\n",
    "The operator `+` concatenates two lists and returns the concatenated list."
   ]
  },
  {
   "cell_type": "code",
   "execution_count": null,
   "metadata": {},
   "outputs": [],
   "source": [
    "print(l + l1)"
   ]
  },
  {
   "cell_type": "markdown",
   "metadata": {},
   "source": [
    "##### Append"
   ]
  },
  {
   "cell_type": "code",
   "execution_count": null,
   "metadata": {},
   "outputs": [],
   "source": [
    "l.extend([23,34])\n",
    "print(l)"
   ]
  },
  {
   "cell_type": "markdown",
   "metadata": {},
   "source": [
    "##### Indexing\n"
   ]
  },
  {
   "cell_type": "code",
   "execution_count": null,
   "metadata": {},
   "outputs": [],
   "source": [
    "l = [7,4,3,9,8]"
   ]
  },
  {
   "cell_type": "code",
   "execution_count": null,
   "metadata": {},
   "outputs": [],
   "source": [
    "l[3:0:-1]"
   ]
  },
  {
   "cell_type": "code",
   "execution_count": null,
   "metadata": {},
   "outputs": [],
   "source": [
    "l"
   ]
  },
  {
   "cell_type": "code",
   "execution_count": null,
   "metadata": {},
   "outputs": [],
   "source": [
    "l[::-1]"
   ]
  },
  {
   "cell_type": "code",
   "execution_count": null,
   "metadata": {},
   "outputs": [],
   "source": [
    "l.reverse()\n",
    "print(l)"
   ]
  },
  {
   "cell_type": "markdown",
   "metadata": {},
   "source": [
    "A third option for indexing allows us to choose the step size for the slicing."
   ]
  },
  {
   "cell_type": "code",
   "execution_count": null,
   "metadata": {},
   "outputs": [],
   "source": [
    "# pick every second element\n",
    "print(l[::2])\n",
    "\n",
    "# print every third element within a range\n",
    "print(l[2:18:3])\n",
    "\n",
    "# reverse a list\n",
    "print(l[::-1])"
   ]
  },
  {
   "cell_type": "markdown",
   "metadata": {},
   "source": [
    "##### Replication"
   ]
  },
  {
   "cell_type": "code",
   "execution_count": null,
   "metadata": {},
   "outputs": [],
   "source": [
    "# replicating lists\n",
    "print([1/6]*9)\n",
    "print(['a']*8)"
   ]
  },
  {
   "cell_type": "markdown",
   "metadata": {},
   "source": [
    "##### Iteration"
   ]
  },
  {
   "cell_type": "code",
   "execution_count": null,
   "metadata": {},
   "outputs": [],
   "source": [
    "a = [0,1,2,3,4,5,6,7,8,9]"
   ]
  },
  {
   "cell_type": "code",
   "execution_count": null,
   "metadata": {},
   "outputs": [],
   "source": [
    "for i in a:\n",
    "    print(i)"
   ]
  },
  {
   "cell_type": "code",
   "execution_count": null,
   "metadata": {},
   "outputs": [],
   "source": [
    "for i in range(10):\n",
    "    a[i] = 2*a[i]\n",
    "print(a)"
   ]
  },
  {
   "cell_type": "code",
   "execution_count": null,
   "metadata": {},
   "outputs": [],
   "source": [
    "# a pythonic way\n",
    "a = [2*i for i in a]\n",
    "print(a)"
   ]
  },
  {
   "cell_type": "markdown",
   "metadata": {},
   "source": [
    "### Memory storage of lists\n",
    "While `Python` gives us a simplified view of a `list`, the actual memory representation of a  list is not as simple. A `list` consists of a main **pointer** (an address pointing to a memory location, typically uses 8 bytes in a 64 bit computer) which references to other pointers, which in turn point to the actual data items.\n",
    "\n",
    "<img src='./list_memory.jpg' width=400px/>"
   ]
  },
  {
   "cell_type": "markdown",
   "metadata": {},
   "source": [
    "Consider an empty `list`:"
   ]
  },
  {
   "cell_type": "code",
   "execution_count": null,
   "metadata": {},
   "outputs": [],
   "source": [
    "l = []\n",
    "print(sys.getsizeof(l))"
   ]
  },
  {
   "cell_type": "markdown",
   "metadata": {},
   "source": [
    "An empty `list` takes 64 bytes, this is for the meta data information (overhead). Now consider the size of the `list` after adding data."
   ]
  },
  {
   "cell_type": "code",
   "execution_count": null,
   "metadata": {},
   "outputs": [],
   "source": [
    "l = ['v']\n",
    "print(sys.getsizeof(l))\n",
    "l = ['v','a']\n",
    "print(sys.getsizeof(l))\n",
    "l = ['v','a']\n",
    "print(sys.getsizeof(l))\n",
    "l = ['v','a','r']\n",
    "print(sys.getsizeof(l))\n",
    "l = ['v','a','r','un']\n",
    "print(sys.getsizeof(l))\n",
    "l = ['v','a','r','un','This is a long string']\n",
    "print(sys.getsizeof(l))\n",
    "l = ['v','a','r','un','This is a long string',[8,16,24]]\n",
    "print(sys.getsizeof(l))"
   ]
  },
  {
   "cell_type": "markdown",
   "metadata": {},
   "source": [
    "Note that, regardless of what was actually added, the size of the `list` grows by 8 bytes with the number of elements, where each memory location uses up 8 bytes.\n",
    "\n",
    "This also reveals a shortcoming of the `getsizeof()` function. It only provides a \"shallow\" size of a collection, i.e., size of the head and the memory locations for the actual data."
   ]
  },
  {
   "cell_type": "markdown",
   "metadata": {},
   "source": [
    "### Copying a list variable\n",
    "Since a list does not directly contain the data, assigning another variable name to an existing list does not quite have the \"desired\" copying effect."
   ]
  },
  {
   "cell_type": "code",
   "execution_count": null,
   "metadata": {},
   "outputs": [],
   "source": [
    "l = [4,5,21,12]\n",
    "l1 = l\n",
    "print(l)\n",
    "print(l1)"
   ]
  },
  {
   "cell_type": "code",
   "execution_count": null,
   "metadata": {},
   "outputs": [],
   "source": [
    "l[2] = 12\n",
    "print(l)"
   ]
  },
  {
   "cell_type": "code",
   "execution_count": null,
   "metadata": {},
   "outputs": [],
   "source": [
    "print(l1)"
   ]
  },
  {
   "cell_type": "markdown",
   "metadata": {},
   "source": [
    "Looks like the list pointed to by `l1` has also changed! This is because the statement `l1 = l` does not create a new list. It just creates a new binding between the target (`l1`) and the actual list object. An explicit `clone()` or `copy()` is needed to create a new copy."
   ]
  },
  {
   "cell_type": "code",
   "execution_count": null,
   "metadata": {},
   "outputs": [],
   "source": [
    "l1 = l.copy()"
   ]
  },
  {
   "cell_type": "code",
   "execution_count": null,
   "metadata": {
    "scrolled": true
   },
   "outputs": [],
   "source": [
    "l[0] = -23\n",
    "print(l)\n",
    "print(l1)"
   ]
  },
  {
   "cell_type": "markdown",
   "metadata": {},
   "source": [
    "#### List functions modify the original list\n",
    "This is true for `append`, `extend`, `pop`, `insert`, and other supported functions for the `list` class."
   ]
  },
  {
   "cell_type": "code",
   "execution_count": null,
   "metadata": {},
   "outputs": [],
   "source": [
    "print(l)\n",
    "l.append(4)\n",
    "print(l)"
   ]
  },
  {
   "cell_type": "markdown",
   "metadata": {},
   "source": [
    "However, binary operators such as `+` and `*` do no modify the existing object and return a new one."
   ]
  },
  {
   "cell_type": "code",
   "execution_count": null,
   "metadata": {},
   "outputs": [],
   "source": [
    "print(l + [3,4,2])\n",
    "print(l)"
   ]
  },
  {
   "cell_type": "markdown",
   "metadata": {},
   "source": [
    "### Understanding performance of python lists"
   ]
  },
  {
   "cell_type": "code",
   "execution_count": 95,
   "metadata": {},
   "outputs": [],
   "source": [
    "# create a long list\n",
    "l = []\n",
    "i = 0\n",
    "for  i in range(10000000):\n",
    "    l.append(i)\n",
    "    i = i + 1"
   ]
  },
  {
   "cell_type": "code",
   "execution_count": 88,
   "metadata": {},
   "outputs": [
    {
     "data": {
      "text/plain": [
       "10000000"
      ]
     },
     "execution_count": 88,
     "metadata": {},
     "output_type": "execute_result"
    }
   ],
   "source": [
    "len(l)"
   ]
  },
  {
   "cell_type": "markdown",
   "metadata": {},
   "source": [
    "#### Access performance\n",
    "We first want to figure out how quickly can we access a particular value within a `list`. \n",
    "\n",
    "**lambda** functions - As an additional topic, we will also learn how to create quick, one-time functions in `Python` using the `lambda` keyword. We will refer to such functions as `lambda` functions. Basic syntax for a `lambda` function is:\n",
    "```\n",
    "lambda arguments : expression\n",
    "```\n",
    "The function can take any number of arguments as input (a comma separated \"list\"). But it can only have a single expression, whose value is returned as the return value of this function.\n",
    "\n",
    "For example:"
   ]
  },
  {
   "cell_type": "code",
   "execution_count": 38,
   "metadata": {},
   "outputs": [
    {
     "name": "stdout",
     "output_type": "stream",
     "text": [
      "8\n",
      "20\n",
      "100\n",
      "16\n"
     ]
    }
   ],
   "source": [
    "double = lambda x: 2*x\n",
    "print(double(4))\n",
    "\n",
    "add = lambda x,y: x + y\n",
    "print(add(8,12))\n",
    "\n",
    "exponent = lambda x,y=10: pow(y,x)\n",
    "print(exponent(2))\n",
    "print(exponent(2,4))"
   ]
  },
  {
   "cell_type": "markdown",
   "metadata": {},
   "source": [
    "##### Difference between `lambda` and `def`:\n",
    "There are two ways to create a function. Both have almost the same effect, but with some minor differences:\n",
    "1. `lambda` functions can have limited capabilities since all the logic has to be squeezed into a single expression\n",
    "2. `lambda` functions can be defined in places where `def` functions cannot be defined. This benefit will become apparent when we talk about \"functional programming\", e.g., `map`, `reduce` and `filter`.\n",
    "\n",
    "Anyways, getting back to studying the performance of lists."
   ]
  },
  {
   "cell_type": "code",
   "execution_count": 50,
   "metadata": {},
   "outputs": [],
   "source": [
    "list_access = lambda l,pos: l[pos]"
   ]
  },
  {
   "cell_type": "code",
   "execution_count": 46,
   "metadata": {},
   "outputs": [
    {
     "name": "stdout",
     "output_type": "stream",
     "text": [
      "98.2 ns ± 0.894 ns per loop (mean ± std. dev. of 7 runs, 10000000 loops each)\n"
     ]
    }
   ],
   "source": [
    "timeit list_access(l,0)"
   ]
  },
  {
   "cell_type": "code",
   "execution_count": 49,
   "metadata": {},
   "outputs": [
    {
     "name": "stdout",
     "output_type": "stream",
     "text": [
      "174 ns ± 1.39 ns per loop (mean ± std. dev. of 7 runs, 10000000 loops each)\n"
     ]
    }
   ],
   "source": [
    "timeit list_access(l,len(l)//2)"
   ]
  },
  {
   "cell_type": "code",
   "execution_count": 47,
   "metadata": {},
   "outputs": [
    {
     "name": "stdout",
     "output_type": "stream",
     "text": [
      "96.2 ns ± 2.12 ns per loop (mean ± std. dev. of 7 runs, 10000000 loops each)\n"
     ]
    }
   ],
   "source": [
    "timeit list_access(l,-1)"
   ]
  },
  {
   "cell_type": "markdown",
   "metadata": {},
   "source": [
    "Looks like the access time is independent of where we want to access the data from.\n",
    "\n",
    "_Next question is: does it depend on the size of the string?_"
   ]
  },
  {
   "cell_type": "code",
   "execution_count": 51,
   "metadata": {},
   "outputs": [],
   "source": [
    "l1 = l[0:1000]"
   ]
  },
  {
   "cell_type": "code",
   "execution_count": 52,
   "metadata": {},
   "outputs": [
    {
     "name": "stdout",
     "output_type": "stream",
     "text": [
      "94.7 ns ± 1.55 ns per loop (mean ± std. dev. of 7 runs, 10000000 loops each)\n"
     ]
    }
   ],
   "source": [
    "timeit list_access(l1,0)"
   ]
  },
  {
   "cell_type": "code",
   "execution_count": 53,
   "metadata": {},
   "outputs": [],
   "source": [
    "l1 = l[0:10000]"
   ]
  },
  {
   "cell_type": "code",
   "execution_count": 54,
   "metadata": {},
   "outputs": [
    {
     "name": "stdout",
     "output_type": "stream",
     "text": [
      "98.4 ns ± 0.654 ns per loop (mean ± std. dev. of 7 runs, 10000000 loops each)\n"
     ]
    }
   ],
   "source": [
    "timeit list_access(l1,0)"
   ]
  },
  {
   "attachments": {},
   "cell_type": "markdown",
   "metadata": {},
   "source": [
    "In general, one can say that list access takes $O(1)$ (or constant) time. \n",
    "\n",
    ">The $O()$ or the `big-oh` notation is used in computer science to denote the worst case complexity (in terms of memory or speed) of an algorithm.\n",
    "\n",
    ">If an algorithm has $O(1)$ time complexity, it means that the time taken to run the algorithm, is a constant factor, and does not depend on the input size. Typically, this is the fastest algorithm you can design.\n",
    "\n",
    ">If an algorithm has $O(n)$ time complexity, where $n$ is the size of the input, it means that in worst case the algorithm will take $c\\times n$ time, where $c$ is a constant factor. This means that the time taken by the algorithm grows linearly with the size of the input. This is also considered as an efficient algorithm.\n",
    "\n",
    ">However, a $O(n^2)$ algorithm is typically considered to be inefficient, since the time grows quadratically with the size of the data. Such (and higher complexity) algorithms should be avoided. \n",
    "\n",
    ">But for many problems, one might not find algorithms that are linear or sub-linear. For instance, the best sorting algorithm is $O(n\\log{n})$. The best algorithm for multiplying two matrices is $O(n^{2.8})$ (the _Strassen_ algorithm).\n",
    "\n",
    "Coming back to lists. Let us now study the performance of list insertion."
   ]
  },
  {
   "cell_type": "code",
   "execution_count": 89,
   "metadata": {},
   "outputs": [
    {
     "name": "stdout",
     "output_type": "stream",
     "text": [
      "7.55 ms ± 147 µs per loop (mean ± std. dev. of 7 runs, 100 loops each)\n"
     ]
    }
   ],
   "source": [
    "timeit del l[0]"
   ]
  },
  {
   "cell_type": "code",
   "execution_count": 97,
   "metadata": {},
   "outputs": [
    {
     "name": "stdout",
     "output_type": "stream",
     "text": [
      "3.53 ms ± 53.9 µs per loop (mean ± std. dev. of 7 runs, 100 loops each)\n"
     ]
    }
   ],
   "source": [
    "timeit del l[5000000]"
   ]
  },
  {
   "cell_type": "code",
   "execution_count": 96,
   "metadata": {},
   "outputs": [
    {
     "name": "stdout",
     "output_type": "stream",
     "text": [
      "366 µs ± 8.59 µs per loop (mean ± std. dev. of 7 runs, 1000 loops each)\n"
     ]
    }
   ],
   "source": [
    "timeit del l[9000000]"
   ]
  },
  {
   "cell_type": "markdown",
   "metadata": {},
   "source": [
    "What we observe above is that the time taken to delete a value from a `list` depends on the location from where we want to delete the item."
   ]
  },
  {
   "cell_type": "markdown",
   "metadata": {},
   "source": [
    "## Strings"
   ]
  },
  {
   "cell_type": "code",
   "execution_count": null,
   "metadata": {},
   "outputs": [],
   "source": [
    "# creating a new string\n",
    "s1 = 'This is great'\n",
    "s2 = \"This is even greater\"\n",
    "s3 = '''This is the greatest'''\n",
    "s4 = \"\"\"This is also equally good\"\"\""
   ]
  },
  {
   "cell_type": "code",
   "execution_count": null,
   "metadata": {},
   "outputs": [],
   "source": [
    "print(s1)\n",
    "print(s2)\n",
    "print(s3)\n",
    "print(s4)"
   ]
  },
  {
   "cell_type": "code",
   "execution_count": null,
   "metadata": {},
   "outputs": [],
   "source": [
    "# we typically reserve three quotes for multi-line strings\n",
    "s5 = 'This is a multi line string.\n",
    "where we need multiple lines.'"
   ]
  },
  {
   "cell_type": "code",
   "execution_count": null,
   "metadata": {},
   "outputs": [],
   "source": [
    "s5 = '''This is a multi line string.\n",
    "where we need multiple lines.'''\n",
    "print(s5)\n",
    "s5 = \"\"\"This is also a multi line string.\n",
    "This uses double quotes\"\"\"\n",
    "print(s5)"
   ]
  },
  {
   "cell_type": "markdown",
   "metadata": {},
   "source": [
    "### Immutability\n",
    "A general concept. Objects of certain type in Python are immutable whereas others a mutable."
   ]
  },
  {
   "cell_type": "code",
   "execution_count": null,
   "metadata": {},
   "outputs": [],
   "source": [
    "# for instance, lists\n",
    "l = ['t','h','i','s']\n",
    "print(l)\n",
    "l[3] = 'n'\n",
    "print(l)"
   ]
  },
  {
   "cell_type": "code",
   "execution_count": null,
   "metadata": {},
   "outputs": [],
   "source": [
    "# now consider, strings\n",
    "s = 'this'\n",
    "print(s)\n",
    "s[3] = 'n'"
   ]
  },
  {
   "cell_type": "code",
   "execution_count": null,
   "metadata": {},
   "outputs": [],
   "source": [
    "# del will not work with strings, either\n",
    "del(s[4])"
   ]
  },
  {
   "cell_type": "code",
   "execution_count": null,
   "metadata": {},
   "outputs": [],
   "source": [
    "s = ['this','is','a','list']\n",
    "s*4"
   ]
  },
  {
   "cell_type": "code",
   "execution_count": null,
   "metadata": {},
   "outputs": [],
   "source": [
    "s = 'this'\n",
    "for x in s:\n",
    "    print(x)"
   ]
  },
  {
   "cell_type": "code",
   "execution_count": null,
   "metadata": {},
   "outputs": [],
   "source": [
    "# you can, however, delete an entire string object\n",
    "s = 'this'\n",
    "print(s)\n",
    "del(s)\n",
    "print(s)"
   ]
  },
  {
   "cell_type": "markdown",
   "metadata": {},
   "source": [
    "### Accessing `str` elements\n",
    "Similar operations as for `list`"
   ]
  },
  {
   "cell_type": "code",
   "execution_count": null,
   "metadata": {},
   "outputs": [],
   "source": [
    "s = 'time flies liKe an arrow'\n",
    "print(s[0:2])\n",
    "print(s[::-1])\n",
    "print(s[0:9:2])\n",
    "t = s[::-1]\n",
    "print(t)"
   ]
  },
  {
   "cell_type": "code",
   "execution_count": null,
   "metadata": {},
   "outputs": [],
   "source": [
    "# getting length of a string - using in-built Python function\n",
    "print(len(s))\n",
    "s1 = ''\n",
    "print(len(s1))"
   ]
  },
  {
   "cell_type": "code",
   "execution_count": null,
   "metadata": {},
   "outputs": [],
   "source": [
    "# some useful methods defined for str\n",
    "print(s.capitalize())\n",
    "print(s.casefold())\n",
    "print(s.count('e'))\n",
    "print(s.center(30))\n",
    "print(len(s.center(30)))"
   ]
  },
  {
   "cell_type": "code",
   "execution_count": null,
   "metadata": {},
   "outputs": [],
   "source": [
    "# Concatenating multiple strings - using the + operation\n",
    "t = 'fruit flies like a banana'\n",
    "print(s+t)\n",
    "print(s.casefold()+', '+t)"
   ]
  },
  {
   "cell_type": "markdown",
   "metadata": {},
   "source": [
    "### Searching within a string\n",
    "Two methods are provided, `find` and `index`, both return the starting index of a substring. However, `index` throws an exception if the substring is not found. `find` returns -1. Both allow specifying start and end index to do the search."
   ]
  },
  {
   "cell_type": "code",
   "execution_count": null,
   "metadata": {},
   "outputs": [],
   "source": [
    "# searching in a string\n",
    "print(s.find('flies'))\n",
    "print(s.find('fly'))\n",
    "print(s.index('flies'))\n",
    "print(s.index('fly'))\n"
   ]
  },
  {
   "cell_type": "code",
   "execution_count": null,
   "metadata": {},
   "outputs": [],
   "source": [
    "print(s.find('li',10))"
   ]
  },
  {
   "cell_type": "markdown",
   "metadata": {},
   "source": [
    "## Tuples\n",
    "Another immutable data structure that can be used to define an arbitrary sequence of objects"
   ]
  },
  {
   "cell_type": "code",
   "execution_count": null,
   "metadata": {},
   "outputs": [],
   "source": [
    "t = (3,5,2.1,2.7,\"yes\",[3,2,4])\n",
    "print(type(t))"
   ]
  },
  {
   "cell_type": "code",
   "execution_count": null,
   "metadata": {},
   "outputs": [],
   "source": [
    "# accessing elements is very similar to list\n",
    "print(t[0:2])\n",
    "print(t[::-1])"
   ]
  },
  {
   "cell_type": "code",
   "execution_count": null,
   "metadata": {},
   "outputs": [],
   "source": [
    "# immutable\n",
    "del(t[2])"
   ]
  },
  {
   "cell_type": "code",
   "execution_count": null,
   "metadata": {},
   "outputs": [],
   "source": [
    "t[2] = 8"
   ]
  },
  {
   "cell_type": "code",
   "execution_count": null,
   "metadata": {},
   "outputs": [],
   "source": [
    "# you can modify a mutable object (such as a list)\n",
    "del(t[-1][0])\n",
    "print(t)"
   ]
  },
  {
   "cell_type": "code",
   "execution_count": null,
   "metadata": {},
   "outputs": [],
   "source": [
    "# direct assignment between two tuples\n",
    "a,b,c,d = 3,4,5,2"
   ]
  },
  {
   "cell_type": "markdown",
   "metadata": {},
   "source": [
    "## Dictionaries\n",
    "Only built in data structure to create **maps**.\n",
    "\n",
    "Highly useful in almost every application. \n",
    "\n"
   ]
  },
  {
   "cell_type": "code",
   "execution_count": null,
   "metadata": {},
   "outputs": [],
   "source": [
    "# creating an empty dictionary\n",
    "d = {}\n",
    "print(type(d))"
   ]
  },
  {
   "cell_type": "code",
   "execution_count": null,
   "metadata": {},
   "outputs": [],
   "source": [
    "# creating a dictionary with values\n",
    "d = {\"k1\": 6,\n",
    "     \"k2\": 8,\n",
    "     \"k3\":12,\n",
    "      4: [3,12,'academics']}\n",
    "print(d)"
   ]
  },
  {
   "cell_type": "code",
   "execution_count": null,
   "metadata": {},
   "outputs": [],
   "source": [
    "d[\"k1\"]"
   ]
  },
  {
   "cell_type": "code",
   "execution_count": null,
   "metadata": {},
   "outputs": [],
   "source": [
    "len(d)"
   ]
  },
  {
   "cell_type": "code",
   "execution_count": null,
   "metadata": {},
   "outputs": [],
   "source": [
    "# adding values to a dictionary\n",
    "d = {}\n",
    "d[\"k1\"] = 6\n",
    "d[\"k2\"] = 8\n",
    "d[\"k4\"] = 9\n",
    "d[\"k3\"] = 12\n",
    "d[\"k2\"] = 19\n",
    "print(d)"
   ]
  },
  {
   "cell_type": "code",
   "execution_count": null,
   "metadata": {},
   "outputs": [],
   "source": [
    "# accessing keys and values\n",
    "keys = d.keys()\n",
    "values = d.values()\n",
    "print(keys)\n",
    "print(values)\n",
    "l_keys = list(keys)\n",
    "print(l_keys)\n",
    "l_values = list(values)\n",
    "print(l_values)"
   ]
  },
  {
   "cell_type": "code",
   "execution_count": null,
   "metadata": {},
   "outputs": [],
   "source": [
    "# iterating over dictionary\n",
    "for k in d.keys():\n",
    "    print(k+\" \"+str(d[k]))"
   ]
  },
  {
   "cell_type": "code",
   "execution_count": null,
   "metadata": {},
   "outputs": [],
   "source": [
    "# checking for a key in dictionary\n",
    "print('k4' in d)\n",
    "print('k9' in d)"
   ]
  },
  {
   "cell_type": "code",
   "execution_count": null,
   "metadata": {},
   "outputs": [],
   "source": [
    "# accessing non-existent key value\n",
    "a = d['k9']"
   ]
  },
  {
   "cell_type": "code",
   "execution_count": null,
   "metadata": {},
   "outputs": [],
   "source": [
    "# can use any immutable object as a key\n",
    "d[9] = 49\n",
    "print(d)\n",
    "d[('n1',4,5)] = 56\n",
    "print(d)\n",
    "# but not a mutable object\n",
    "d[[6,4,5]] = 63"
   ]
  },
  {
   "cell_type": "code",
   "execution_count": null,
   "metadata": {},
   "outputs": [],
   "source": [
    "# value can be of any type (mutable or immutable)\n",
    "d[7] = d\n",
    "print(d)"
   ]
  },
  {
   "cell_type": "code",
   "execution_count": null,
   "metadata": {},
   "outputs": [],
   "source": [
    "import time"
   ]
  },
  {
   "cell_type": "code",
   "execution_count": null,
   "metadata": {},
   "outputs": [],
   "source": [
    "# Sai Kiran's Experiment\n",
    "# does the creation of a new entry depend on the length of the key\n",
    "st = time.time()\n",
    "d['k9'*8000] = 23\n",
    "en = time.time()\n",
    "print(en - st)"
   ]
  },
  {
   "cell_type": "markdown",
   "metadata": {},
   "source": [
    "_Example_: Consider an application that requires the geographical coordinates for a US County name. We will build two mini applications: one that relies on lists, and one that uses dictionaries"
   ]
  },
  {
   "cell_type": "markdown",
   "metadata": {},
   "source": [
    "**Solution 1** Using list of tuples"
   ]
  },
  {
   "cell_type": "code",
   "execution_count": null,
   "metadata": {},
   "outputs": [],
   "source": [
    "import csv #we are going to use the csv module available in Python to read a csv file "
   ]
  },
  {
   "cell_type": "code",
   "execution_count": null,
   "metadata": {},
   "outputs": [],
   "source": [
    "# reading the csv file with county data\n",
    "data = []\n",
    "# the open command uses the iso-8859-1 encoding instead of the usual utf-8 because the file contains accented characters\n",
    "with open('./us_counties.csv',encoding='iso-8859-1') as f:\n",
    "#with open('./us_counties.csv',encoding='utf-8') as f:\n",
    "    reader = csv.reader(f)\n",
    "    next(reader) # skip the header using the in-built function next which just skips one entry in an iterator\n",
    "    for row in reader:\n",
    "        #row will be a list consisting of all the tokens in a given row of the file\n",
    "        name = row[3]\n",
    "        lat = float(row[10])\n",
    "        lon = float(row[11])\n",
    "        data.append((name,lat,lon))\n",
    "        "
   ]
  },
  {
   "cell_type": "markdown",
   "metadata": {},
   "source": [
    "Now let us say, we need the coordinates of a given county"
   ]
  },
  {
   "cell_type": "code",
   "execution_count": null,
   "metadata": {},
   "outputs": [],
   "source": [
    "countyname = 'Ponce Municipio'\n",
    "# only way to find the coordinates will be to iterate through data\n",
    "for d in data:\n",
    "    if d[0] == countyname:\n",
    "        print(d)\n",
    "        break"
   ]
  },
  {
   "cell_type": "markdown",
   "metadata": {},
   "source": [
    "**Solution 1 (a)** Using separate lists"
   ]
  },
  {
   "cell_type": "code",
   "execution_count": null,
   "metadata": {},
   "outputs": [],
   "source": [
    "# reading the csv file with county data\n",
    "names = []\n",
    "coordinates = []\n",
    "# the open command uses the iso-8859-1 encoding instead of the usual utf-8 because the file contains accented characters\n",
    "with open('./us_counties.csv',encoding='iso-8859-1') as f:\n",
    "#with open('./us_counties.csv',encoding='utf-8') as f:\n",
    "    reader = csv.reader(f)\n",
    "    next(reader) # skip the header using the in-built function next which just skips one entry in an iterator\n",
    "    for row in reader:\n",
    "        #row will be a list consisting of all the tokens in a given row of the file\n",
    "        name = row[3]\n",
    "        lat = float(row[10])\n",
    "        lon = float(row[11])\n",
    "        names.append(name)\n",
    "        coordinates.append((lat,lon))\n",
    "        "
   ]
  },
  {
   "cell_type": "code",
   "execution_count": null,
   "metadata": {},
   "outputs": [],
   "source": [
    "countyname = 'Ponce Municipio'\n",
    "i = names.index(countyname)\n",
    "print(coordinates[i])"
   ]
  },
  {
   "cell_type": "markdown",
   "metadata": {},
   "source": [
    "**Solution 2** Using dictionary"
   ]
  },
  {
   "cell_type": "code",
   "execution_count": null,
   "metadata": {},
   "outputs": [],
   "source": [
    "# reading the csv file with county data\n",
    "coordinateMap = {} #initializing an empty dictionary\n",
    "# the open command uses the iso-8859-1 encoding instead of the usual utf-8 because the file contains accented characters\n",
    "with open('./us_counties.csv',encoding='iso-8859-1') as f:\n",
    "#with open('./us_counties.csv',encoding='utf-8') as f:\n",
    "    reader = csv.reader(f)\n",
    "    next(reader) # skip the header using the in-built function next which just skips one entry in an iterator\n",
    "    for row in reader:\n",
    "        #row will be a list consisting of all the tokens in a given row of the file\n",
    "        name = row[3]\n",
    "        lat = float(row[10])\n",
    "        lon = float(row[11])\n",
    "        coordinateMap[name] = (lat,lon)"
   ]
  },
  {
   "cell_type": "code",
   "execution_count": null,
   "metadata": {},
   "outputs": [],
   "source": [
    "countyname = 'Ponce Municipio'\n",
    "print(coordinateMap[countyname])"
   ]
  },
  {
   "cell_type": "markdown",
   "metadata": {},
   "source": [
    "Which approach is better? Clearly solution 1 requires extra lines for accessing data. Solution 1a is shorter, however, requires two lookups, first the index of the name in the names list and then getting the corresponding coordinate entry.\n",
    "\n",
    "Which one is faster? Let us first investigate the creation of the data structures."
   ]
  },
  {
   "cell_type": "code",
   "execution_count": null,
   "metadata": {},
   "outputs": [],
   "source": [
    "import time"
   ]
  },
  {
   "cell_type": "code",
   "execution_count": null,
   "metadata": {},
   "outputs": [],
   "source": [
    "st = time.time()\n",
    "names = []\n",
    "coordinates = []\n",
    "# the open command uses the iso-8859-1 encoding instead of the usual utf-8 because the file contains accented characters\n",
    "with open('./us_counties.csv',encoding='iso-8859-1') as f:\n",
    "#with open('./us_counties.csv',encoding='utf-8') as f:\n",
    "    reader = csv.reader(f)\n",
    "    next(reader) # skip the header using the in-built function next which just skips one entry in an iterator\n",
    "    for row in reader:\n",
    "        #row will be a list consisting of all the tokens in a given row of the file\n",
    "        name = row[3]\n",
    "        lat = float(row[10])\n",
    "        lon = float(row[11])\n",
    "        names.append(name)\n",
    "        coordinates.append((lat,lon))\n",
    "en = time.time()\n",
    "print(en-st)"
   ]
  },
  {
   "cell_type": "code",
   "execution_count": null,
   "metadata": {},
   "outputs": [],
   "source": [
    "st = time.time()\n",
    "coordinateMap = {} #initializing an empty dictionary\n",
    "# the open command uses the iso-8859-1 encoding instead of the usual utf-8 because the file contains accented characters\n",
    "with open('./us_counties.csv',encoding='iso-8859-1') as f:\n",
    "#with open('./us_counties.csv',encoding='utf-8') as f:\n",
    "    reader = csv.reader(f)\n",
    "    next(reader) # skip the header using the in-built function next which just skips one entry in an iterator\n",
    "    for row in reader:\n",
    "        #row will be a list consisting of all the tokens in a given row of the file\n",
    "        name = row[3]\n",
    "        lat = float(row[10])\n",
    "        lon = float(row[11])\n",
    "        coordinateMap[name] = (lat,lon)\n",
    "en = time.time()\n",
    "print(en-st)"
   ]
  },
  {
   "cell_type": "markdown",
   "metadata": {},
   "source": [
    "Both seem to be equal. In fact, creating lists might be faster than the dictionary. How about accessing?"
   ]
  },
  {
   "cell_type": "code",
   "execution_count": null,
   "metadata": {},
   "outputs": [],
   "source": [
    "countyname = 'Ponce Municipio'\n",
    "st = time.time()\n",
    "for i in range(10000):#we do it multiple times to get a statistically significant result\n",
    "    i = names.index(countyname)\n",
    "    c = coordinates[i]\n",
    "en = time.time()\n",
    "print(en-st)"
   ]
  },
  {
   "cell_type": "code",
   "execution_count": null,
   "metadata": {},
   "outputs": [],
   "source": [
    "countyname = 'Ponce Municipio'\n",
    "st = time.time()\n",
    "for i in range(10000):#we do it multiple times to get a statistically significant result\n",
    "    c = coordinateMap[countyname]\n",
    "en = time.time()\n",
    "print(en-st)"
   ]
  },
  {
   "cell_type": "markdown",
   "metadata": {},
   "source": [
    "Aha! It appears that using a `dict` is much better than using `list` in terms of accessing relevant values"
   ]
  },
  {
   "cell_type": "markdown",
   "metadata": {},
   "source": [
    "# Sets"
   ]
  },
  {
   "cell_type": "code",
   "execution_count": null,
   "metadata": {},
   "outputs": [],
   "source": [
    "s = set('pythonprogramming')\n",
    "print(type(s))\n",
    "print(s)"
   ]
  },
  {
   "cell_type": "code",
   "execution_count": null,
   "metadata": {},
   "outputs": [],
   "source": [
    "s = set([3,6,2,1,3,45,6,3,2,1])\n",
    "print(type(s))\n",
    "print(s)"
   ]
  },
  {
   "cell_type": "code",
   "execution_count": null,
   "metadata": {},
   "outputs": [],
   "source": [
    "s = set((4,3,'f'))\n",
    "print(type(s))\n",
    "print(s)"
   ]
  },
  {
   "cell_type": "code",
   "execution_count": null,
   "metadata": {},
   "outputs": [],
   "source": [
    "s1 = set(['apples','oranges','bananas'])\n",
    "s2 = set(['pineapples','avocados','mangoes','apples','bananas'])\n",
    "print(list(s1.intersection(s2)))\n",
    "print(s1.union(s2))\n",
    "print(s1.difference(s2))"
   ]
  },
  {
   "cell_type": "code",
   "execution_count": null,
   "metadata": {},
   "outputs": [],
   "source": [
    "L = [3,2,4]\n",
    "L1 = list(L)\n",
    "print(L1)\n",
    "L[2] = 99\n",
    "print(L1)\n",
    "print(L)"
   ]
  },
  {
   "cell_type": "code",
   "execution_count": null,
   "metadata": {},
   "outputs": [],
   "source": [
    "ll = ['va','ru','n']\n",
    "print(sys.getsizeof(ll))"
   ]
  },
  {
   "cell_type": "code",
   "execution_count": null,
   "metadata": {},
   "outputs": [],
   "source": [
    "sys.getsizeof(0)"
   ]
  }
 ],
 "metadata": {
  "kernelspec": {
   "display_name": "Python 3",
   "language": "python",
   "name": "python3"
  },
  "language_info": {
   "codemirror_mode": {
    "name": "ipython",
    "version": 3
   },
   "file_extension": ".py",
   "mimetype": "text/x-python",
   "name": "python",
   "nbconvert_exporter": "python",
   "pygments_lexer": "ipython3",
   "version": "3.6.4"
  }
 },
 "nbformat": 4,
 "nbformat_minor": 2
}
