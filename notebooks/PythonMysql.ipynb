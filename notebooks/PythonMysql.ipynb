{
 "cells": [
  {
   "cell_type": "markdown",
   "metadata": {},
   "source": [
    "# Programming and Database Fundamentals for Data Scientists - EAS503"
   ]
  },
  {
   "cell_type": "markdown",
   "metadata": {},
   "source": [
    "The goal of PyMySQL is to be a drop-in replacement for MySQLdb and work on CPython, PyPy and IronPython.\n",
    "\n",
    "### Installation\n",
    "```script\n",
    "pip install PyMySQL\n",
    "```\n",
    "or\n",
    "```script\n",
    "conda install PyMySQL\n",
    "```\n",
    "Might need `sudo` privileges depending on your Python installation.\n",
    "\n",
    "\n",
    "### Start with a simple table\n",
    "Run the following in your database\n",
    "```sql\n",
    "CREATE TABLE `users` (\n",
    "    `id` int(11) NOT NULL AUTO_INCREMENT,\n",
    "    `email` varchar(255) COLLATE utf8_bin NOT NULL,\n",
    "    `password` varchar(255) COLLATE utf8_bin NOT NULL,\n",
    "    PRIMARY KEY (`id`)\n",
    ") ENGINE=InnoDB DEFAULT CHARSET=utf8 COLLATE=utf8_bin\n",
    "AUTO_INCREMENT=1 ;\n",
    "```"
   ]
  },
  {
   "cell_type": "code",
   "execution_count": 2,
   "metadata": {},
   "outputs": [],
   "source": [
    "import pymysql.cursors"
   ]
  },
  {
   "cell_type": "code",
   "execution_count": 43,
   "metadata": {},
   "outputs": [],
   "source": [
    "# Connect to the database\n",
    "connection = pymysql.connect(host='localhost',\n",
    "                             user='root',\n",
    "                             password='root',\n",
    "                             db='eas503db',\n",
    "                             charset='utf8mb4',\n",
    "                             cursorclass=pymysql.cursors.DictCursor)\n",
    "try:\n",
    "    with connection.cursor() as cursor:\n",
    "        # Create a new record\n",
    "        sql = \"INSERT INTO `users` (`email`, `password`) VALUES (%s, %s)\"\n",
    "        cursor.execute(sql, ('admin@python.org', 'very-very-secret'))\n",
    "    # connection is not autocommit by default. So you must commit to save\n",
    "    # your changes.\n",
    "    connection.commit()\n",
    "\n",
    "    \n",
    "finally:\n",
    "    connection.close()"
   ]
  },
  {
   "cell_type": "code",
   "execution_count": 40,
   "metadata": {
    "collapsed": true
   },
   "outputs": [],
   "source": [
    "# Connect to the database\n",
    "connection = pymysql.connect(host='localhost',\n",
    "                             user='root',\n",
    "                             password='root',\n",
    "                             db='eas503db',\n",
    "                             charset='utf8mb4',\n",
    "                             cursorclass=pymysql.cursors.DictCursor)\n",
    "try:\n",
    "    with connection.cursor() as cursor:\n",
    "        # Create a new record\n",
    "        sql = \"DELETE FROM `users`\"\n",
    "        cursor.execute(sql)\n",
    "    # connection is not autocommit by default. So you must commit to save\n",
    "    # your changes.\n",
    "    connection.commit()\n",
    "\n",
    "    \n",
    "finally:\n",
    "    connection.close()"
   ]
  },
  {
   "cell_type": "code",
   "execution_count": 47,
   "metadata": {},
   "outputs": [
    {
     "name": "stdout",
     "output_type": "stream",
     "text": [
      "[{'id': 3, 'password': 'very-secret'}, {'id': 4, 'password': 'very-very-secret'}]\n"
     ]
    }
   ],
   "source": [
    "# Connect to the database\n",
    "connection = pymysql.connect(host='localhost',\n",
    "                             user='root',\n",
    "                             password='root',\n",
    "                             db='eas503db',\n",
    "                             charset='utf8mb4',\n",
    "                             cursorclass=pymysql.cursors.DictCursor)\n",
    "try:\n",
    "    with connection.cursor() as cursor:\n",
    "        # Read a single record\n",
    "        sql = \"SELECT `id`, `password` FROM `users`\"\n",
    "        cursor.execute(sql)\n",
    "        #result = cursor.fetchone()\n",
    "        result = cursor.fetchall()\n",
    "        print(result)\n",
    "        \n",
    "finally:\n",
    "    connection.close()\n",
    "        "
   ]
  },
  {
   "cell_type": "markdown",
   "metadata": {},
   "source": [
    "### Using Pandas library"
   ]
  },
  {
   "cell_type": "code",
   "execution_count": 20,
   "metadata": {},
   "outputs": [],
   "source": [
    "import pandas as pd"
   ]
  },
  {
   "cell_type": "code",
   "execution_count": 49,
   "metadata": {},
   "outputs": [],
   "source": [
    "# Connect to the database\n",
    "connection = pymysql.connect(host='localhost',\n",
    "                             user='root',\n",
    "                             password='root',\n",
    "                             db='eas503db',\n",
    "                             charset='utf8mb4',\n",
    "                             cursorclass=pymysql.cursors.DictCursor)\n",
    "df = pd.read_sql('SELECT * FROM users', con=connection)"
   ]
  },
  {
   "cell_type": "code",
   "execution_count": 50,
   "metadata": {},
   "outputs": [
    {
     "data": {
      "text/html": [
       "<div>\n",
       "<table border=\"1\" class=\"dataframe\">\n",
       "  <thead>\n",
       "    <tr style=\"text-align: right;\">\n",
       "      <th></th>\n",
       "      <th>id</th>\n",
       "      <th>email</th>\n",
       "      <th>password</th>\n",
       "    </tr>\n",
       "  </thead>\n",
       "  <tbody>\n",
       "    <tr>\n",
       "      <th>0</th>\n",
       "      <td>3</td>\n",
       "      <td>webmaster@python.org</td>\n",
       "      <td>very-secret</td>\n",
       "    </tr>\n",
       "    <tr>\n",
       "      <th>1</th>\n",
       "      <td>4</td>\n",
       "      <td>admin@python.org</td>\n",
       "      <td>very-very-secret</td>\n",
       "    </tr>\n",
       "  </tbody>\n",
       "</table>\n",
       "</div>"
      ],
      "text/plain": [
       "   id                 email          password\n",
       "0   3  webmaster@python.org       very-secret\n",
       "1   4      admin@python.org  very-very-secret"
      ]
     },
     "execution_count": 50,
     "metadata": {},
     "output_type": "execute_result"
    }
   ],
   "source": [
    "df"
   ]
  },
  {
   "cell_type": "markdown",
   "metadata": {},
   "source": [
    "## Querying HR database"
   ]
  },
  {
   "cell_type": "code",
   "execution_count": 54,
   "metadata": {
    "collapsed": true
   },
   "outputs": [],
   "source": [
    "import time"
   ]
  },
  {
   "cell_type": "code",
   "execution_count": 59,
   "metadata": {
    "collapsed": true
   },
   "outputs": [],
   "source": [
    "connection = pymysql.connect(host='localhost',\n",
    "                             user='root',\n",
    "                             password='root',\n",
    "                             db='employees',\n",
    "                             charset='utf8mb4',\n",
    "                             cursorclass=pymysql.cursors.DictCursor)"
   ]
  },
  {
   "cell_type": "code",
   "execution_count": 55,
   "metadata": {},
   "outputs": [
    {
     "name": "stdout",
     "output_type": "stream",
     "text": [
      "3.3557138442993164\n"
     ]
    }
   ],
   "source": [
    "st = time.time()\n",
    "df = pd.read_sql('''SELECT E.first_name,E.last_name,Y.salary\n",
    " FROM employees E JOIN (\n",
    "  SELECT S.emp_no,S.salary\n",
    "        FROM salaries S JOIN (\n",
    "                SELECT emp_no,MAX(from_date) AS from_date\n",
    "                FROM salaries\n",
    "                GROUP BY emp_no) AS X\n",
    "                ON S.emp_no = X.emp_no AND S.from_date = X.from_date\n",
    "              ) Y\n",
    "ON E.emp_no = Y.emp_no\n",
    "WHERE E.hire_date >= \\'2000-01-01\\' ''', con=connection)\n",
    "en = time.time()\n",
    "print(en-st)"
   ]
  },
  {
   "cell_type": "code",
   "execution_count": 53,
   "metadata": {},
   "outputs": [
    {
     "data": {
      "text/html": [
       "<div>\n",
       "<table border=\"1\" class=\"dataframe\">\n",
       "  <thead>\n",
       "    <tr style=\"text-align: right;\">\n",
       "      <th></th>\n",
       "      <th>first_name</th>\n",
       "      <th>last_name</th>\n",
       "      <th>salary</th>\n",
       "    </tr>\n",
       "  </thead>\n",
       "  <tbody>\n",
       "    <tr>\n",
       "      <th>0</th>\n",
       "      <td>Ulf</td>\n",
       "      <td>Flexer</td>\n",
       "      <td>52206</td>\n",
       "    </tr>\n",
       "    <tr>\n",
       "      <th>1</th>\n",
       "      <td>Seshu</td>\n",
       "      <td>Rathonyi</td>\n",
       "      <td>61320</td>\n",
       "    </tr>\n",
       "    <tr>\n",
       "      <th>2</th>\n",
       "      <td>Randi</td>\n",
       "      <td>Luit</td>\n",
       "      <td>44619</td>\n",
       "    </tr>\n",
       "    <tr>\n",
       "      <th>3</th>\n",
       "      <td>Mariangiola</td>\n",
       "      <td>Boreale</td>\n",
       "      <td>62286</td>\n",
       "    </tr>\n",
       "    <tr>\n",
       "      <th>4</th>\n",
       "      <td>Ennio</td>\n",
       "      <td>Alblas</td>\n",
       "      <td>80596</td>\n",
       "    </tr>\n",
       "    <tr>\n",
       "      <th>5</th>\n",
       "      <td>Volkmar</td>\n",
       "      <td>Perko</td>\n",
       "      <td>52953</td>\n",
       "    </tr>\n",
       "    <tr>\n",
       "      <th>6</th>\n",
       "      <td>Xuejun</td>\n",
       "      <td>Benzmuller</td>\n",
       "      <td>53036</td>\n",
       "    </tr>\n",
       "    <tr>\n",
       "      <th>7</th>\n",
       "      <td>Shahab</td>\n",
       "      <td>Demeyer</td>\n",
       "      <td>43267</td>\n",
       "    </tr>\n",
       "    <tr>\n",
       "      <th>8</th>\n",
       "      <td>Jaana</td>\n",
       "      <td>Verspoor</td>\n",
       "      <td>40638</td>\n",
       "    </tr>\n",
       "    <tr>\n",
       "      <th>9</th>\n",
       "      <td>Jeong</td>\n",
       "      <td>Boreale</td>\n",
       "      <td>42176</td>\n",
       "    </tr>\n",
       "    <tr>\n",
       "      <th>10</th>\n",
       "      <td>Yucai</td>\n",
       "      <td>Gerlach</td>\n",
       "      <td>65075</td>\n",
       "    </tr>\n",
       "    <tr>\n",
       "      <th>11</th>\n",
       "      <td>Bikash</td>\n",
       "      <td>Covnot</td>\n",
       "      <td>52793</td>\n",
       "    </tr>\n",
       "    <tr>\n",
       "      <th>12</th>\n",
       "      <td>Hideyuki</td>\n",
       "      <td>Delgrande</td>\n",
       "      <td>72320</td>\n",
       "    </tr>\n",
       "  </tbody>\n",
       "</table>\n",
       "</div>"
      ],
      "text/plain": [
       "     first_name   last_name  salary\n",
       "0           Ulf      Flexer   52206\n",
       "1         Seshu    Rathonyi   61320\n",
       "2         Randi        Luit   44619\n",
       "3   Mariangiola     Boreale   62286\n",
       "4         Ennio      Alblas   80596\n",
       "5       Volkmar       Perko   52953\n",
       "6        Xuejun  Benzmuller   53036\n",
       "7        Shahab     Demeyer   43267\n",
       "8         Jaana    Verspoor   40638\n",
       "9         Jeong     Boreale   42176\n",
       "10        Yucai     Gerlach   65075\n",
       "11       Bikash      Covnot   52793\n",
       "12     Hideyuki   Delgrande   72320"
      ]
     },
     "execution_count": 53,
     "metadata": {},
     "output_type": "execute_result"
    }
   ],
   "source": [
    "df"
   ]
  },
  {
   "cell_type": "code",
   "execution_count": 56,
   "metadata": {
    "collapsed": true
   },
   "outputs": [],
   "source": [
    "connection.close()"
   ]
  },
  {
   "cell_type": "markdown",
   "metadata": {},
   "source": [
    "## Alternative\n",
    "Pull tables employees and salaries into Pandas and then use `pd.join()` and additional operations to get the above dataframe"
   ]
  },
  {
   "cell_type": "code",
   "execution_count": 64,
   "metadata": {},
   "outputs": [
    {
     "name": "stdout",
     "output_type": "stream",
     "text": [
      "31.47672700881958\n"
     ]
    }
   ],
   "source": [
    "st = time.time()\n",
    "df = pd.read_sql('''SELECT E.first_name,E.last_name,E.hire_date,Y.salary\n",
    " FROM employees E JOIN (\n",
    "  SELECT S.emp_no,S.salary\n",
    "        FROM salaries S JOIN (\n",
    "                SELECT emp_no,MAX(from_date) AS from_date\n",
    "                FROM salaries\n",
    "                GROUP BY emp_no) AS X\n",
    "                ON S.emp_no = X.emp_no AND S.from_date = X.from_date\n",
    "              ) Y\n",
    "ON E.emp_no = Y.emp_no ''', con=connection)\n",
    "en = time.time()\n",
    "print(en-st)"
   ]
  },
  {
   "cell_type": "code",
   "execution_count": 63,
   "metadata": {},
   "outputs": [
    {
     "data": {
      "text/html": [
       "<div>\n",
       "<table border=\"1\" class=\"dataframe\">\n",
       "  <thead>\n",
       "    <tr style=\"text-align: right;\">\n",
       "      <th></th>\n",
       "      <th>first_name</th>\n",
       "      <th>last_name</th>\n",
       "      <th>salary</th>\n",
       "    </tr>\n",
       "  </thead>\n",
       "  <tbody>\n",
       "    <tr>\n",
       "      <th>0</th>\n",
       "      <td>Georgi</td>\n",
       "      <td>Facello</td>\n",
       "      <td>88958</td>\n",
       "    </tr>\n",
       "    <tr>\n",
       "      <th>1</th>\n",
       "      <td>Bezalel</td>\n",
       "      <td>Simmel</td>\n",
       "      <td>72527</td>\n",
       "    </tr>\n",
       "    <tr>\n",
       "      <th>2</th>\n",
       "      <td>Parto</td>\n",
       "      <td>Bamford</td>\n",
       "      <td>43311</td>\n",
       "    </tr>\n",
       "    <tr>\n",
       "      <th>3</th>\n",
       "      <td>Chirstian</td>\n",
       "      <td>Koblick</td>\n",
       "      <td>74057</td>\n",
       "    </tr>\n",
       "    <tr>\n",
       "      <th>4</th>\n",
       "      <td>Kyoichi</td>\n",
       "      <td>Maliniak</td>\n",
       "      <td>94692</td>\n",
       "    </tr>\n",
       "  </tbody>\n",
       "</table>\n",
       "</div>"
      ],
      "text/plain": [
       "  first_name last_name  salary\n",
       "0     Georgi   Facello   88958\n",
       "1    Bezalel    Simmel   72527\n",
       "2      Parto   Bamford   43311\n",
       "3  Chirstian   Koblick   74057\n",
       "4    Kyoichi  Maliniak   94692"
      ]
     },
     "execution_count": 63,
     "metadata": {},
     "output_type": "execute_result"
    }
   ],
   "source": [
    "df.head()"
   ]
  },
  {
   "cell_type": "markdown",
   "metadata": {},
   "source": [
    "Find first_name, last_name of all employees whose current salary exceeds the current salary of their department managers\n",
    "\n",
    "```sql\n",
    "CREATE VIEW current_department_manager AS\n",
    "SELECT D.emp_no, D.dept_no\n",
    "FROM dept_manager D JOIN (\n",
    "    SELECT emp_no,MAX(from_date) AS from_date\n",
    "    FROM dept_manager\n",
    "    GROUP BY emp_no) AS X\n",
    "ON D.emp_no = X.emp_no AND D.from_date = X.from_date;\n",
    "```\n",
    "\n",
    "```sql\n",
    "CREATE VIEW current_department_emp AS\n",
    "SELECT D.emp_no, D.dept_no\n",
    "FROM dept_emp D JOIN (\n",
    "    SELECT emp_no,MAX(from_date) AS from_date\n",
    "    FROM dept_emp\n",
    "    GROUP BY emp_no) AS X\n",
    "ON D.emp_no = X.emp_no AND D.from_date = X.from_date;\n",
    "```\n",
    "\n",
    "```sql\n",
    "CREATE VIEW current_salary AS\n",
    "SELECT S.emp_no, S.salary\n",
    "FROM salaries S JOIN (\n",
    "    SELECT emp_no,MAX(from_date) AS from_date\n",
    "    FROM salaries\n",
    "    GROUP BY emp_no) AS X\n",
    "ON S.emp_no = X.emp_no AND S.from_date = X.from_date;\n",
    "```"
   ]
  }
 ],
 "metadata": {
  "kernelspec": {
   "display_name": "Python 3",
   "language": "python",
   "name": "python3"
  },
  "language_info": {
   "codemirror_mode": {
    "name": "ipython",
    "version": 3
   },
   "file_extension": ".py",
   "mimetype": "text/x-python",
   "name": "python",
   "nbconvert_exporter": "python",
   "pygments_lexer": "ipython3",
   "version": "3.6.4"
  }
 },
 "nbformat": 4,
 "nbformat_minor": 2
}
