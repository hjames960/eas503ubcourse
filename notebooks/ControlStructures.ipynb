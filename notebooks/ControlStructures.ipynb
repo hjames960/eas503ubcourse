{
 "cells": [
  {
   "cell_type": "markdown",
   "metadata": {},
   "source": [
    " # Programming and Database Fundamentals for Data Scientists - EAS503"
   ]
  },
  {
   "cell_type": "markdown",
   "metadata": {},
   "source": [
    "### Using if-else\n",
    "Write a program to convert celsius to fahrenheit and vice-versa"
   ]
  },
  {
   "cell_type": "code",
   "execution_count": null,
   "metadata": {
    "collapsed": true
   },
   "outputs": [],
   "source": [
    "def convertTemperature(value,unit):\n",
    "    '''\n",
    "    The function expects the original temperature and a unit \n",
    "    Either F or C or K.\n",
    "    \n",
    "    Raises a ValueError exception.\n",
    "    '''\n",
    "    # value is the input temperature\n",
    "    # unit is current unit (F or C or K)\n",
    "\n",
    "    if unit == 'F':\n",
    "        c = (value - 32)/1.8\n",
    "    else:\n",
    "        if unit == 'C':\n",
    "            c = 1.8*value + 32\n",
    "        else:\n",
    "            if unit == 'K':\n",
    "                c = value + 273\n",
    "            else:\n",
    "                raise ValueError('Incorrect unit provided')\n",
    "    return c"
   ]
  },
  {
   "cell_type": "code",
   "execution_count": 168,
   "metadata": {},
   "outputs": [
    {
     "name": "stdout",
     "output_type": "stream",
     "text": [
      "Help on function convertTemperature in module __main__:\n",
      "\n",
      "convertTemperature(value, unit)\n",
      "    The function expects the original temperature and a unit \n",
      "    Either F or C or K.\n",
      "    \n",
      "    Raises a ValueError exception.\n",
      "\n"
     ]
    }
   ],
   "source": [
    "help(convertTemperature)"
   ]
  },
  {
   "cell_type": "code",
   "execution_count": 170,
   "metadata": {},
   "outputs": [],
   "source": [
    "c = convertTemperature(20,'C')"
   ]
  },
  {
   "cell_type": "code",
   "execution_count": 159,
   "metadata": {},
   "outputs": [
    {
     "name": "stdout",
     "output_type": "stream",
     "text": [
      "Sorry\n"
     ]
    }
   ],
   "source": [
    "try:\n",
    "    c = convertTemperature('twenty','K')\n",
    "    print(c)\n",
    "except ValueError:\n",
    "    print(\"Sorry\")"
   ]
  },
  {
   "cell_type": "markdown",
   "metadata": {},
   "source": [
    "### Using if-elif-else\n",
    "Writing cleaner code"
   ]
  },
  {
   "cell_type": "code",
   "execution_count": null,
   "metadata": {
    "collapsed": true
   },
   "outputs": [],
   "source": [
    "# a cleaner way\n",
    "def convertTemperature(value,unit):\n",
    "    '''\n",
    "    The function expects the original temperature and a unit \n",
    "    Either F or C or K.\n",
    "    \n",
    "    Raises a ValueError exception.\n",
    "    '''\n",
    "    # value is the input temperature\n",
    "    # unit is current unit (F or C or K)\n",
    "\n",
    "    if unit == 'F':\n",
    "        c = (value - 32)/1.8\n",
    "    elif unit == 'C':\n",
    "        c = 1.8*value + 32\n",
    "    elif unit == 'K':\n",
    "        c = value + 273\n",
    "    else:\n",
    "        raise ValueError('Incorrect unit provided')\n",
    "    return c"
   ]
  },
  {
   "cell_type": "markdown",
   "metadata": {},
   "source": [
    "### Exception Handling in Python"
   ]
  },
  {
   "cell_type": "code",
   "execution_count": null,
   "metadata": {
    "collapsed": true
   },
   "outputs": [],
   "source": [
    "def divides(x,y):\n",
    "    try:\n",
    "        z = x/y\n",
    "    except ZeroDivisionError:\n",
    "        print(\"Incorrect arguments\")\n",
    "        z = 0\n",
    "    except TypeError as te:\n",
    "        print(\"Wrong types\")\n",
    "        print(te)\n",
    "        z = 0\n",
    "    except:\n",
    "        print(\"Unrecognized error happened\")\n",
    "        z = 0\n",
    "    finally:\n",
    "        print(\"Returning from the function\")\n",
    "        \n",
    "    return z"
   ]
  },
  {
   "cell_type": "code",
   "execution_count": null,
   "metadata": {
    "collapsed": true
   },
   "outputs": [],
   "source": [
    "print(divides(3,4))\n",
    "print(divides(3,'w'))\n",
    "print(divides(4,0))"
   ]
  },
  {
   "cell_type": "code",
   "execution_count": null,
   "metadata": {
    "collapsed": true
   },
   "outputs": [],
   "source": [
    "numattempts = 0\n",
    "while (numattempts < 4):\n",
    "    try:\n",
    "        x = int(input(\"Please enter a number: \"))\n",
    "        numattempts = numattempts + 1\n",
    "    except ValueError:\n",
    "        print(\"Oops!  That was no valid number.  Try again...\")"
   ]
  },
  {
   "cell_type": "code",
   "execution_count": null,
   "metadata": {
    "collapsed": true
   },
   "outputs": [],
   "source": [
    "while True:\n",
    "    try:\n",
    "        x = int(input(\"Please enter a number: \"))\n",
    "        if(x == -99):\n",
    "            break\n",
    "    except ValueError as v:\n",
    "        print(\"Oops!  That was no valid number.  Try again...\")\n",
    "        print(v)\n",
    "        print(v.args)"
   ]
  },
  {
   "cell_type": "markdown",
   "metadata": {},
   "source": [
    "### Designing clean algorithms\n",
    "Find maximum of three numbers"
   ]
  },
  {
   "cell_type": "code",
   "execution_count": 127,
   "metadata": {
    "collapsed": true
   },
   "outputs": [],
   "source": [
    "def findmax(x1,x2,x3):\n",
    "    # find the maximum of the three and return it\n",
    "    if x1 > x2:\n",
    "        if x1 > x3:\n",
    "            mx = x1\n",
    "        else:\n",
    "            mx = x3\n",
    "    else:\n",
    "        if x2 > x3:\n",
    "            mx = x2\n",
    "        else:\n",
    "            mx = x3\n",
    "    return mx"
   ]
  },
  {
   "cell_type": "code",
   "execution_count": 171,
   "metadata": {
    "collapsed": true
   },
   "outputs": [],
   "source": [
    "def findmax(xlist):\n",
    "    # find the maximum of the three and return it\n",
    "    mx = xlist[0]\n",
    "    for i in xlist[1:]:\n",
    "        if i > mx:\n",
    "            mx = i\n",
    "    return mx"
   ]
  },
  {
   "cell_type": "code",
   "execution_count": 172,
   "metadata": {},
   "outputs": [
    {
     "data": {
      "text/plain": [
       "90.2"
      ]
     },
     "execution_count": 172,
     "metadata": {},
     "output_type": "execute_result"
    }
   ],
   "source": [
    "findmax([3,2,8,90.2,1])"
   ]
  },
  {
   "cell_type": "code",
   "execution_count": 174,
   "metadata": {},
   "outputs": [
    {
     "data": {
      "text/plain": [
       "'sorted'"
      ]
     },
     "execution_count": 174,
     "metadata": {},
     "output_type": "execute_result"
    }
   ],
   "source": [
    "findmax(['alphabetically','sorted','list'])"
   ]
  },
  {
   "cell_type": "code",
   "execution_count": 176,
   "metadata": {},
   "outputs": [
    {
     "data": {
      "text/plain": [
       "True"
      ]
     },
     "execution_count": 176,
     "metadata": {},
     "output_type": "execute_result"
    }
   ],
   "source": [
    "# Python supports conditional statements like these\n",
    "4 >= 3 >= 2\n"
   ]
  },
  {
   "cell_type": "markdown",
   "metadata": {},
   "source": [
    "What if we want to generalize the function to take multiple values. First question: _how do we take that as an input?_"
   ]
  },
  {
   "cell_type": "code",
   "execution_count": 177,
   "metadata": {},
   "outputs": [
    {
     "name": "stdout",
     "output_type": "stream",
     "text": [
      "Do you want to stopno\n",
      "Do you want to stopno\n",
      "Do you want to stopno\n",
      "Do you want to stopyes\n"
     ]
    }
   ],
   "source": [
    "# interactive loops\n",
    "x = 0\n",
    "while(True):\n",
    "    x = x + 1\n",
    "    y = input(\"Do you want to stop\")\n",
    "    if y == 'yes':\n",
    "        break"
   ]
  },
  {
   "cell_type": "code",
   "execution_count": 185,
   "metadata": {},
   "outputs": [
    {
     "name": "stdout",
     "output_type": "stream",
     "text": [
      "This\n",
      "is\n",
      "EAS503\n",
      "Introduction to Programming and Databases\n",
      "at University at Buffalo\n"
     ]
    }
   ],
   "source": [
    "# file loops\n",
    "f = open('testfile.txt','r')\n",
    "for l in f:\n",
    "    l = l.strip()\n",
    "    print(l)\n",
    "f.close()"
   ]
  },
  {
   "cell_type": "code",
   "execution_count": 187,
   "metadata": {},
   "outputs": [
    {
     "name": "stdout",
     "output_type": "stream",
     "text": [
      "This\n",
      "is\n",
      "EAS503\n",
      "Introduction to Programming and Databases\n",
      "at University at Buffalo\n"
     ]
    }
   ],
   "source": [
    "# file loops\n",
    "with open('testfile.txt','r') as f:\n",
    "    for l in f:\n",
    "        l = l.strip()\n",
    "        print(l)\n"
   ]
  },
  {
   "cell_type": "code",
   "execution_count": 188,
   "metadata": {
    "collapsed": true
   },
   "outputs": [],
   "source": [
    "# post-test loops\n",
    "x = 0\n",
    "while(True):\n",
    "    x = x + 1\n",
    "    \n",
    "    if x == 100000:\n",
    "        break"
   ]
  },
  {
   "cell_type": "code",
   "execution_count": 190,
   "metadata": {},
   "outputs": [
    {
     "name": "stdout",
     "output_type": "stream",
     "text": [
      "100000\n"
     ]
    }
   ],
   "source": [
    "print(x)"
   ]
  },
  {
   "cell_type": "code",
   "execution_count": 191,
   "metadata": {},
   "outputs": [
    {
     "name": "stdout",
     "output_type": "stream",
     "text": [
      "100000\n"
     ]
    }
   ],
   "source": [
    "# sentinel loops\n",
    "x = 0\n",
    "while(x < 100000):\n",
    "    x = x + 1\n",
    "print(x)"
   ]
  },
  {
   "cell_type": "code",
   "execution_count": 206,
   "metadata": {},
   "outputs": [],
   "source": [
    "import newroutines as nr"
   ]
  },
  {
   "cell_type": "code",
   "execution_count": 207,
   "metadata": {},
   "outputs": [
    {
     "data": {
      "text/plain": [
       "9"
      ]
     },
     "execution_count": 207,
     "metadata": {},
     "output_type": "execute_result"
    }
   ],
   "source": [
    "nr.add(4,5)"
   ]
  },
  {
   "cell_type": "code",
   "execution_count": 208,
   "metadata": {
    "collapsed": true
   },
   "outputs": [],
   "source": [
    "import numpy as np"
   ]
  },
  {
   "cell_type": "code",
   "execution_count": 211,
   "metadata": {},
   "outputs": [
    {
     "data": {
      "text/plain": [
       "str"
      ]
     },
     "execution_count": 211,
     "metadata": {},
     "output_type": "execute_result"
    }
   ],
   "source": [
    "s = \"this is fantastic\"\n",
    "type(s)"
   ]
  },
  {
   "cell_type": "code",
   "execution_count": 212,
   "metadata": {},
   "outputs": [
    {
     "data": {
      "text/plain": [
       "'This is fantastic'"
      ]
     },
     "execution_count": 212,
     "metadata": {},
     "output_type": "execute_result"
    }
   ],
   "source": [
    "s.capitalize()"
   ]
  },
  {
   "cell_type": "code",
   "execution_count": 213,
   "metadata": {},
   "outputs": [
    {
     "data": {
      "text/plain": [
       "'THIS IS FANTASTIC'"
      ]
     },
     "execution_count": 213,
     "metadata": {},
     "output_type": "execute_result"
    }
   ],
   "source": [
    "s.upper()"
   ]
  }
 ],
 "metadata": {
  "kernelspec": {
   "display_name": "Python 3",
   "language": "python",
   "name": "python3"
  },
  "language_info": {
   "codemirror_mode": {
    "name": "ipython",
    "version": 3
   },
   "file_extension": ".py",
   "mimetype": "text/x-python",
   "name": "python",
   "nbconvert_exporter": "python",
   "pygments_lexer": "ipython3",
   "version": "3.6.4"
  }
 },
 "nbformat": 4,
 "nbformat_minor": 2
}
