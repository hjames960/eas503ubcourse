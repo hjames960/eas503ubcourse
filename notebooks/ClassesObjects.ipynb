{
 "cells": [
  {
   "cell_type": "markdown",
   "metadata": {},
   "source": [
    " # Programming and Database Fundamentals for Data Scientists - EAS503"
   ]
  },
  {
   "cell_type": "markdown",
   "metadata": {},
   "source": [
    "Python classes and objects.\n",
    "\n",
    "In this notebook we will discuss the notion of classes and objects, which are a fundamental concept. Using the keyword `class`, one can define a class.\n",
    "\n",
    "Before learning about how to define classes, we will first understand the need for defining classes."
   ]
  },
  {
   "cell_type": "markdown",
   "metadata": {},
   "source": [
    "### A Simple Banking Application\n",
    "Read data from `csv` files containing customer and account information and find all customers with more than \\$25,000 in their bank account."
   ]
  },
  {
   "cell_type": "code",
   "execution_count": null,
   "metadata": {
    "collapsed": true
   },
   "outputs": [],
   "source": [
    "# Logical design\n",
    "## Leave this as a homework exercise"
   ]
  },
  {
   "cell_type": "code",
   "execution_count": 154,
   "metadata": {
    "collapsed": true
   },
   "outputs": [],
   "source": [
    "# OOD\n",
    "class Customer:\n",
    "\n",
    "    def __init__(self, customerid, name, address):\n",
    "        self.__name = name\n",
    "        self.__customerid = customerid\n",
    "        self.__address = address\n",
    "        self.__accounts = []\n",
    "        \n",
    "    def add_account(self, account):\n",
    "        self.__accounts.append(account)\n",
    "\n",
    "\n",
    "    def get_total(self):\n",
    "        s = 0\n",
    "        for a in self.__accounts:\n",
    "            s = s + a.get_amount()\n",
    "        return s\n",
    "    \n",
    "    def get_name(self):\n",
    "        return self.__name\n",
    "\n",
    "\n",
    "class Account:\n",
    "    def __init__(self,accounttype,amount):\n",
    "        self.__accounttype = accounttype\n",
    "        self.__amount = amount\n",
    "    \n",
    "    def get_amount(self):\n",
    "        return self.__amount\n",
    "    \n",
    "    "
   ]
  },
  {
   "cell_type": "code",
   "execution_count": 156,
   "metadata": {
    "collapsed": false
   },
   "outputs": [],
   "source": [
    "import csv\n",
    "customers = {}\n",
    "with open('./customers.csv') as f:\n",
    "    reader = csv.reader(f)\n",
    "    next(reader)\n",
    "    for row in reader:\n",
    "        customer = Customer(row[0],row[1],row[2])\n",
    "        customers[row[0]] = customer\n",
    "\n",
    "with open('./accounts.csv') as f:\n",
    "    reader = csv.reader(f)\n",
    "    next(reader)\n",
    "    for row in reader:\n",
    "        customerid = row[1]\n",
    "        account = Account(row[0],int(row[2]))\n",
    "        customers[customerid].add_account(account)"
   ]
  },
  {
   "cell_type": "code",
   "execution_count": 157,
   "metadata": {
    "collapsed": false
   },
   "outputs": [
    {
     "name": "stdout",
     "output_type": "stream",
     "text": [
      "Jane\n",
      "Alice\n"
     ]
    }
   ],
   "source": [
    "for c in customers.keys():\n",
    "    if customers[c].get_total() > 25000:\n",
    "        print(customers[c].get_name())"
   ]
  },
  {
   "cell_type": "markdown",
   "metadata": {},
   "source": [
    "## Defining Classes\n",
    "More details about `class` definition"
   ]
  },
  {
   "cell_type": "code",
   "execution_count": 151,
   "metadata": {
    "collapsed": true
   },
   "outputs": [],
   "source": [
    "# this class has no __init__ function\n",
    "class myclass:\n",
    "    def mymethod_myclass(self):\n",
    "        print(\"hey\")"
   ]
  },
  {
   "cell_type": "code",
   "execution_count": 153,
   "metadata": {
    "collapsed": false
   },
   "outputs": [
    {
     "name": "stdout",
     "output_type": "stream",
     "text": [
      "hey\n"
     ]
    }
   ],
   "source": [
    "myobj = myclass()\n",
    "myobj.mymethod_myclass()"
   ]
  },
  {
   "cell_type": "code",
   "execution_count": 149,
   "metadata": {
    "collapsed": false
   },
   "outputs": [],
   "source": [
    "# this class has no __init__ function\n",
    "class myclass:\n",
    "    # we define a field \n",
    "    __classtype='My Class'\n",
    "    def mymethod(self):\n",
    "        print(\"This is \"+self.__classtype)\n",
    "        \n",
    "    def getClasstype(self):\n",
    "        return self.__classtype"
   ]
  },
  {
   "cell_type": "code",
   "execution_count": 148,
   "metadata": {
    "collapsed": false
   },
   "outputs": [
    {
     "name": "stdout",
     "output_type": "stream",
     "text": [
      "This is My Class\n",
      "My Class\n"
     ]
    }
   ],
   "source": [
    "# making fields private\n",
    "myobj = myclass()\n",
    "myobj.mymethod()\n",
    "print(myobj.getClasstype())"
   ]
  },
  {
   "cell_type": "code",
   "execution_count": null,
   "metadata": {
    "collapsed": false
   },
   "outputs": [],
   "source": [
    "myobj = myclass()\n",
    "myobj.mymethod()"
   ]
  },
  {
   "cell_type": "code",
   "execution_count": 137,
   "metadata": {
    "collapsed": true
   },
   "outputs": [],
   "source": [
    "# this class has not __init__ function\n",
    "class myclass:\n",
    "    # we define a global field \n",
    "    classtype='My Class'\n",
    "    def mymethod(self):\n",
    "        print(\"This is \"+self.classtype) # note that we are explicitly referencing the field of the class\n",
    "        \n",
    "    def mymethod2(self):\n",
    "        print(\"This is\"+self.classtype)"
   ]
  },
  {
   "cell_type": "code",
   "execution_count": 138,
   "metadata": {
    "collapsed": false
   },
   "outputs": [
    {
     "name": "stdout",
     "output_type": "stream",
     "text": [
      "This isMy Class\n"
     ]
    }
   ],
   "source": [
    "myobj = myclass()\n",
    "myobj.mymethod2()"
   ]
  },
  {
   "cell_type": "markdown",
   "metadata": {},
   "source": [
    "#### Issues with defining fields outside the `__init__` function\n",
    "If global field is mutable"
   ]
  },
  {
   "cell_type": "code",
   "execution_count": null,
   "metadata": {
    "collapsed": true
   },
   "outputs": [],
   "source": [
    "# this class has not __init__ function\n",
    "class myclass:\n",
    "    # we define a field \n",
    "    classtypes=['int']\n",
    "    def mymethod(self):\n",
    "        print(self.classtypes) # note that we are explicitly referencing the field of the class"
   ]
  },
  {
   "cell_type": "code",
   "execution_count": null,
   "metadata": {
    "collapsed": false
   },
   "outputs": [],
   "source": [
    "myobj1 = myclass()\n",
    "myobj2 = myclass()\n",
    "\n",
    "myobj1.mymethod()\n",
    "myobj2.mymethod()\n",
    "\n",
    "myobj1.classtypes.append('float')\n",
    "\n",
    "myobj1.mymethod()\n",
    "myobj2.mymethod()"
   ]
  },
  {
   "cell_type": "markdown",
   "metadata": {},
   "source": [
    "#### How to avoid the above issue?\n",
    "Define mutable fields within `__init__`"
   ]
  },
  {
   "cell_type": "code",
   "execution_count": null,
   "metadata": {
    "collapsed": true
   },
   "outputs": [],
   "source": [
    "# this class has an __init__ function\n",
    "class myclass:\n",
    "    def __init__(self):\n",
    "        # we define a field \n",
    "        self.classtypes=['int']\n",
    "    def mymethod(self):\n",
    "        print(self.classtypes) # note that we are explicitly referencing the field of the class"
   ]
  },
  {
   "cell_type": "code",
   "execution_count": null,
   "metadata": {
    "collapsed": false
   },
   "outputs": [],
   "source": [
    "myobj1 = myclass()\n",
    "myobj2 = myclass()\n",
    "\n",
    "myobj1.mymethod()\n",
    "myobj2.mymethod()\n",
    "\n",
    "myobj1.classtypes.append('float')\n",
    "\n",
    "myobj1.mymethod()\n",
    "myobj2.mymethod()"
   ]
  },
  {
   "cell_type": "code",
   "execution_count": null,
   "metadata": {
    "collapsed": false
   },
   "outputs": [],
   "source": [
    "# you can directly access the field\n",
    "myobj1.mymethod()\n"
   ]
  },
  {
   "cell_type": "markdown",
   "metadata": {},
   "source": [
    "#### Hide fields from external use"
   ]
  },
  {
   "cell_type": "code",
   "execution_count": 158,
   "metadata": {
    "collapsed": false
   },
   "outputs": [
    {
     "name": "stdout",
     "output_type": "stream",
     "text": [
      "chandola\n"
     ]
    }
   ],
   "source": [
    "class account:\n",
    "    def __init__(self,u,p):\n",
    "        self.username = u\n",
    "        self.password = p\n",
    "act = account('chandola','chandola')\n",
    "print(act.password)"
   ]
  },
  {
   "cell_type": "code",
   "execution_count": 159,
   "metadata": {
    "collapsed": false
   },
   "outputs": [
    {
     "name": "stdout",
     "output_type": "stream",
     "text": [
      "chandola\n",
      "True\n"
     ]
    }
   ],
   "source": [
    "class account:\n",
    "    def __init__(self,u,p):\n",
    "        self.__username = u\n",
    "        self.__password = p\n",
    "    \n",
    "    def getUsername(self):\n",
    "        return self.__username\n",
    "    \n",
    "    def checkPassword(self,p):\n",
    "        if p == self.__getPassword():\n",
    "            return True\n",
    "        else:\n",
    "            return False\n",
    "    def __getPassword(self):\n",
    "        return self.__password\n",
    "    \n",
    "act = account('chandola','chandola')\n",
    "print(act.getUsername())\n",
    "print(act.checkPassword('chandola'))\n",
    "#print(act.__getPassword())"
   ]
  },
  {
   "cell_type": "code",
   "execution_count": null,
   "metadata": {
    "collapsed": true
   },
   "outputs": [],
   "source": [
    "# this class has an __init__ function\n",
    "class myclass:\n",
    "    def __init__(self):\n",
    "        # we define a field \n",
    "        self.__classtypes=['int']"
   ]
  },
  {
   "cell_type": "code",
   "execution_count": null,
   "metadata": {
    "collapsed": false
   },
   "outputs": [],
   "source": [
    "myobj1 = myclass()\n",
    "myobj1.__classtypes"
   ]
  },
  {
   "cell_type": "code",
   "execution_count": null,
   "metadata": {
    "collapsed": true
   },
   "outputs": [],
   "source": [
    "# the private field will be accessible to the class methods\n",
    "class myclass:\n",
    "    def __init__(self):\n",
    "        # we define a field \n",
    "        self.__classtypes=['int']\n",
    "    \n",
    "    def appendType(self,newtype):\n",
    "        self.__classtypes.append(newtype)"
   ]
  },
  {
   "cell_type": "code",
   "execution_count": null,
   "metadata": {
    "collapsed": true
   },
   "outputs": [],
   "source": [
    "myobj1 = myclass()\n",
    "myobj1.appendType('float')"
   ]
  },
  {
   "cell_type": "code",
   "execution_count": null,
   "metadata": {
    "collapsed": false
   },
   "outputs": [],
   "source": [
    "# still cannot access the field outside\n",
    "myobj1.__classtypes"
   ]
  },
  {
   "cell_type": "code",
   "execution_count": null,
   "metadata": {
    "collapsed": true
   },
   "outputs": [],
   "source": [
    "# solution -- create a getter method\n",
    "class myclass:\n",
    "    def __init__(self):\n",
    "        # we define a field \n",
    "        self.__classtypes=['int']\n",
    "        \n",
    "    def appendType(self,newtype):\n",
    "        self.__classtypes.append(newtype)\n",
    "        \n",
    "    def getClasstypes(self):\n",
    "        return self.__classtypes"
   ]
  },
  {
   "cell_type": "code",
   "execution_count": null,
   "metadata": {
    "collapsed": false
   },
   "outputs": [],
   "source": [
    "myobj1 = myclass()\n",
    "myobj1.appendType('float')\n",
    "myobj1.getClasstypes()"
   ]
  },
  {
   "cell_type": "markdown",
   "metadata": {},
   "source": [
    "One can create `getter` and `setter` methods to manipulate fields. While the name of the methods can be arbitrary, a good programming practice is to use get`FieldNameWithoutUnderscores()` and set`FieldNameWithoutUnderscores()`"
   ]
  },
  {
   "cell_type": "markdown",
   "metadata": {},
   "source": [
    "### Namespaces and scope\n",
    "In Python, different variables and methods have different `scopes`. A namespace is essentially a mapping from a name (a string) to an object.\n",
    "\n",
    "For instance, the set of built-in function names belong to a single namespace. Similarly, all methods within a certain class definition belong to a single namespace.\n",
    "\n",
    "The region where the names belonging to a namespace are directly accessible is known as the **scope** for the namespace. For instance, all built-in function names have a `global` scope, i.e., they are accessible anywhere in the program"
   ]
  },
  {
   "cell_type": "code",
   "execution_count": 161,
   "metadata": {
    "collapsed": false
   },
   "outputs": [
    {
     "name": "stdout",
     "output_type": "stream",
     "text": [
      "a new variable\n",
      "[5, 7, 6]\n",
      "Trying to print c\n",
      "a new variable\n",
      "[7, 6]\n"
     ]
    },
    {
     "ename": "NameError",
     "evalue": "name 'a' is not defined",
     "output_type": "error",
     "traceback": [
      "\u001b[0;31m---------------------------------------------------------------------------\u001b[0m",
      "\u001b[0;31mNameError\u001b[0m                                 Traceback (most recent call last)",
      "\u001b[0;32m<ipython-input-161-cf909eeeded4>\u001b[0m in \u001b[0;36m<module>\u001b[0;34m()\u001b[0m\n\u001b[1;32m     18\u001b[0m \u001b[0mprint\u001b[0m\u001b[0;34m(\u001b[0m\u001b[0mb\u001b[0m\u001b[0;34m)\u001b[0m\u001b[0;34m\u001b[0m\u001b[0m\n\u001b[1;32m     19\u001b[0m \u001b[0;31m# a is not in the current scope\u001b[0m\u001b[0;34m\u001b[0m\u001b[0;34m\u001b[0m\u001b[0m\n\u001b[0;32m---> 20\u001b[0;31m \u001b[0mprint\u001b[0m\u001b[0;34m(\u001b[0m\u001b[0ma\u001b[0m\u001b[0;34m)\u001b[0m\u001b[0;34m\u001b[0m\u001b[0m\n\u001b[0m",
      "\u001b[0;31mNameError\u001b[0m: name 'a' is not defined"
     ]
    }
   ],
   "source": [
    "def mymethod():\n",
    "    a = [5,7,6]\n",
    "    # a is in the current scope\n",
    "    print(a)\n",
    "    del(a[0])\n",
    "    #can i create a variable called del? Uncomment the following line to find out\n",
    "    # del = 7\n",
    "    #will c be available here?\n",
    "    print(\"Trying to print c\")\n",
    "    print(c)\n",
    "    return a\n",
    "\n",
    "c = 'a new variable'\n",
    "# c is in the current scope\n",
    "print(c)\n",
    "b = mymethod()\n",
    "# b is in the current scope\n",
    "print(b)\n",
    "# a is not in the current scope\n",
    "print(a)\n"
   ]
  },
  {
   "cell_type": "markdown",
   "metadata": {},
   "source": [
    "### `locals` vs. `globals`\n",
    "How to find out what are the local and global names currently available. Simple, use the built-in `locals` and `globals` functions"
   ]
  },
  {
   "cell_type": "code",
   "execution_count": 166,
   "metadata": {
    "collapsed": false
   },
   "outputs": [
    {
     "name": "stdout",
     "output_type": "stream",
     "text": [
      "{'mymethod3': <function mymethod2.<locals>.mymethod3 at 0x105773a60>, 'b': [4, 7], 'a': 7}\n",
      "[4, 7]\n"
     ]
    }
   ],
   "source": [
    "def mymethod2():\n",
    "    a = 7\n",
    "    b = [4,7]\n",
    "    def mymethod3():\n",
    "        x = 3\n",
    "        print(x)\n",
    "    print(locals())\n",
    "    print(b)\n",
    "\n",
    "mymethod2()\n",
    "#print(globals())\n"
   ]
  },
  {
   "cell_type": "code",
   "execution_count": 26,
   "metadata": {
    "collapsed": false
   },
   "outputs": [
    {
     "name": "stdout",
     "output_type": "stream",
     "text": [
      "Key __name__\n",
      "Value __main__\n",
      "Key __doc__\n",
      "Value Automatically created module for IPython interactive environment\n",
      "Key __package__\n",
      "Value None\n",
      "Key __loader__\n",
      "Value None\n",
      "Key __spec__\n",
      "Value None\n",
      "Key __builtin__\n",
      "Value <module 'builtins' (built-in)>\n",
      "Key __builtins__\n",
      "Value <module 'builtins' (built-in)>\n",
      "Key _ih\n",
      "Value ['', 'def mymethod():\\n    a = [5,7,6]\\n    del(a[0])\\n    return a', 'def mymethod():\\n    a = [5,7,6]\\n    del(a[0])\\n    return a\\n\\nmymethod()', 'def mymethod():\\n    a = [5,7,6]\\n    del(a[0])\\n    return a\\n\\nprint(mymethod())', 'def mymethod():\\n    a = [5,7,6]\\n    del(a[0])\\n    return a\\n\\nb = mymethod()\\nprint(b)\\n\\nprint(a)', 'def mymethod():\\n    a = [5,7,6]\\n    del(a[0])\\n    print(a)\\n    return a\\n\\nb = mymethod()\\nprint(b)\\n\\nprint(a)', 'def mymethod():\\n    a = [5,7,6]\\n    \\n    print(a)\\n    del(a[0])\\n    #can i create a variable called del?\\n    del = 7\\n    return a\\n\\nb = mymethod()\\nprint(b)\\n\\nprint(a)', 'def mymethod():\\n    a = [5,7,6]\\n    \\n    print(a)\\n    del(a[0])\\n    #can i create a variable called del? Uncomment the following line to find out\\n    # del = 7\\n    return a\\n\\nb = mymethod()\\nprint(b)\\n\\nprint(a)', 'def mymethod():\\n    a = [5,7,6]\\n    # a is in the current scope\\n    print(a)\\n    del(a[0])\\n    #can i create a variable called del? Uncomment the following line to find out\\n    # del = 7\\n    return a\\n\\nb = mymethod()\\n# b is in the current scope\\nprint(b)\\n# a is not in the current scope\\nprint(a)', \"def mymethod():\\n    a = [5,7,6]\\n    # a is in the current scope\\n    print(a)\\n    del(a[0])\\n    #can i create a variable called del? Uncomment the following line to find out\\n    # del = 7\\n    #will c be available here\\n    print(c)\\n    return a\\n\\nc = 'a new variable'\\n# c is in the current scope\\nprint(c)\\nb = mymethod()\\n# b is in the current scope\\nprint(b)\\n# a is not in the current scope\\nprint(a)\", \"def mymethod():\\n    a = [5,7,6]\\n    # a is in the current scope\\n    print(a)\\n    del(a[0])\\n    #can i create a variable called del? Uncomment the following line to find out\\n    # del = 7\\n    #will c be available here?\\n    print(c)\\n    return a\\n\\nc = 'a new variable'\\n# c is in the current scope\\nprint(c)\\nb = mymethod()\\n# b is in the current scope\\nprint(b)\\n# a is not in the current scope\\nprint(a)\", \"def mymethod():\\n    a = 7\\n    b = ['a','l']\\n    print(locals())\", \"def mymethod():\\n    a = 7\\n    b = ['a','l']\\n    print(locals())\\n\\nmymethod()\", 'def mymethod():\\n    a = 7\\n    b = [4,7]\\n    print(locals())\\n\\nmymethod()', 'def mymethod():\\n    a = 7\\n    b = [4,7]\\n    print(locals())\\n\\nmymethod()\\nprint(globals())', 'def mymethod():\\n    a = 7\\n    b = [4,7]\\n    print(locals())\\n\\nmymethod()\\nprint(globals())', 'def mymethod2():\\n    a = 7\\n    b = [4,7]\\n    print(locals())\\n\\nmymethod2()\\nprint(globals())', 'def mymethod2():\\n    a = 7\\n    b = [4,7]\\n    print(locals())\\n\\nmymethod2()\\nprint(globals())\\nprint(a)', \"def mymethod2():\\n    a = 7\\n    b = [4,7]\\n    print(locals())\\n\\nmymethod2()\\nprint(globals())\\nprint(globals()['a'])\", \"def mymethod2():\\n    a = 7\\n    b = [4,7]\\n    print(locals())\\n\\nmymethod2()\\n#print(globals())\\nprint(globals()['a'])\", 'g = globals()\\ng.keys()', 'g = globals()\\ng.keys()', 'g = globals()\\nprint(g)', 'g = globals()\\nfor k in g.keys():\\n    print(k+str(g[k]))', 'g = globals()\\nfor k in g.keys():\\n    print(k)\\n    print(g[k])', 'g = globals()\\nfor k in g.keys():\\n    print(\"Key \"+k)\\n    print(\"Value \"+g[k])', 'g = globals()\\nfor k in g.keys():\\n    print(\"Key \"+k)\\n    print(\"Value \"+str(g[k]))']\n",
      "Key _oh\n",
      "Value {2: [7, 6], 20: dict_keys(['__name__', '__doc__', '__package__', '__loader__', '__spec__', '__builtin__', '__builtins__', '_ih', '_oh', '_dh', '_sh', 'In', 'Out', 'get_ipython', 'exit', 'quit', '_', '__', '___', '_i', '_ii', '_iii', '_i1', 'mymethod', '_i2', '_2', '_i3', '_i4', 'b', '_i5', '_i6', '_i7', '_i8', '_i9', 'c', '_i10', '_i11', '_i12', '_i13', '_i14', '_i15', '_i16', 'mymethod2', '_i17', '_i18', '_i19', '_i20', 'g', '_20', '_i21', '_21', '_i22', '_i23', 'k', '_i24', '_i25', '_i26']), 21: dict_keys(['__name__', '__doc__', '__package__', '__loader__', '__spec__', '__builtin__', '__builtins__', '_ih', '_oh', '_dh', '_sh', 'In', 'Out', 'get_ipython', 'exit', 'quit', '_', '__', '___', '_i', '_ii', '_iii', '_i1', 'mymethod', '_i2', '_2', '_i3', '_i4', 'b', '_i5', '_i6', '_i7', '_i8', '_i9', 'c', '_i10', '_i11', '_i12', '_i13', '_i14', '_i15', '_i16', 'mymethod2', '_i17', '_i18', '_i19', '_i20', 'g', '_20', '_i21', '_21', '_i22', '_i23', 'k', '_i24', '_i25', '_i26'])}\n",
      "Key _dh\n",
      "Value ['/Users/chandola/Teaching/eascourse/website/eas503ubcourse/notebooks']\n",
      "Key _sh\n",
      "Value <module 'IPython.core.shadowns' from '/Users/chandola/anaconda/lib/python3.6/site-packages/IPython/core/shadowns.py'>\n",
      "Key In\n",
      "Value ['', 'def mymethod():\\n    a = [5,7,6]\\n    del(a[0])\\n    return a', 'def mymethod():\\n    a = [5,7,6]\\n    del(a[0])\\n    return a\\n\\nmymethod()', 'def mymethod():\\n    a = [5,7,6]\\n    del(a[0])\\n    return a\\n\\nprint(mymethod())', 'def mymethod():\\n    a = [5,7,6]\\n    del(a[0])\\n    return a\\n\\nb = mymethod()\\nprint(b)\\n\\nprint(a)', 'def mymethod():\\n    a = [5,7,6]\\n    del(a[0])\\n    print(a)\\n    return a\\n\\nb = mymethod()\\nprint(b)\\n\\nprint(a)', 'def mymethod():\\n    a = [5,7,6]\\n    \\n    print(a)\\n    del(a[0])\\n    #can i create a variable called del?\\n    del = 7\\n    return a\\n\\nb = mymethod()\\nprint(b)\\n\\nprint(a)', 'def mymethod():\\n    a = [5,7,6]\\n    \\n    print(a)\\n    del(a[0])\\n    #can i create a variable called del? Uncomment the following line to find out\\n    # del = 7\\n    return a\\n\\nb = mymethod()\\nprint(b)\\n\\nprint(a)', 'def mymethod():\\n    a = [5,7,6]\\n    # a is in the current scope\\n    print(a)\\n    del(a[0])\\n    #can i create a variable called del? Uncomment the following line to find out\\n    # del = 7\\n    return a\\n\\nb = mymethod()\\n# b is in the current scope\\nprint(b)\\n# a is not in the current scope\\nprint(a)', \"def mymethod():\\n    a = [5,7,6]\\n    # a is in the current scope\\n    print(a)\\n    del(a[0])\\n    #can i create a variable called del? Uncomment the following line to find out\\n    # del = 7\\n    #will c be available here\\n    print(c)\\n    return a\\n\\nc = 'a new variable'\\n# c is in the current scope\\nprint(c)\\nb = mymethod()\\n# b is in the current scope\\nprint(b)\\n# a is not in the current scope\\nprint(a)\", \"def mymethod():\\n    a = [5,7,6]\\n    # a is in the current scope\\n    print(a)\\n    del(a[0])\\n    #can i create a variable called del? Uncomment the following line to find out\\n    # del = 7\\n    #will c be available here?\\n    print(c)\\n    return a\\n\\nc = 'a new variable'\\n# c is in the current scope\\nprint(c)\\nb = mymethod()\\n# b is in the current scope\\nprint(b)\\n# a is not in the current scope\\nprint(a)\", \"def mymethod():\\n    a = 7\\n    b = ['a','l']\\n    print(locals())\", \"def mymethod():\\n    a = 7\\n    b = ['a','l']\\n    print(locals())\\n\\nmymethod()\", 'def mymethod():\\n    a = 7\\n    b = [4,7]\\n    print(locals())\\n\\nmymethod()', 'def mymethod():\\n    a = 7\\n    b = [4,7]\\n    print(locals())\\n\\nmymethod()\\nprint(globals())', 'def mymethod():\\n    a = 7\\n    b = [4,7]\\n    print(locals())\\n\\nmymethod()\\nprint(globals())', 'def mymethod2():\\n    a = 7\\n    b = [4,7]\\n    print(locals())\\n\\nmymethod2()\\nprint(globals())', 'def mymethod2():\\n    a = 7\\n    b = [4,7]\\n    print(locals())\\n\\nmymethod2()\\nprint(globals())\\nprint(a)', \"def mymethod2():\\n    a = 7\\n    b = [4,7]\\n    print(locals())\\n\\nmymethod2()\\nprint(globals())\\nprint(globals()['a'])\", \"def mymethod2():\\n    a = 7\\n    b = [4,7]\\n    print(locals())\\n\\nmymethod2()\\n#print(globals())\\nprint(globals()['a'])\", 'g = globals()\\ng.keys()', 'g = globals()\\ng.keys()', 'g = globals()\\nprint(g)', 'g = globals()\\nfor k in g.keys():\\n    print(k+str(g[k]))', 'g = globals()\\nfor k in g.keys():\\n    print(k)\\n    print(g[k])', 'g = globals()\\nfor k in g.keys():\\n    print(\"Key \"+k)\\n    print(\"Value \"+g[k])', 'g = globals()\\nfor k in g.keys():\\n    print(\"Key \"+k)\\n    print(\"Value \"+str(g[k]))']\n",
      "Key Out\n",
      "Value {2: [7, 6], 20: dict_keys(['__name__', '__doc__', '__package__', '__loader__', '__spec__', '__builtin__', '__builtins__', '_ih', '_oh', '_dh', '_sh', 'In', 'Out', 'get_ipython', 'exit', 'quit', '_', '__', '___', '_i', '_ii', '_iii', '_i1', 'mymethod', '_i2', '_2', '_i3', '_i4', 'b', '_i5', '_i6', '_i7', '_i8', '_i9', 'c', '_i10', '_i11', '_i12', '_i13', '_i14', '_i15', '_i16', 'mymethod2', '_i17', '_i18', '_i19', '_i20', 'g', '_20', '_i21', '_21', '_i22', '_i23', 'k', '_i24', '_i25', '_i26']), 21: dict_keys(['__name__', '__doc__', '__package__', '__loader__', '__spec__', '__builtin__', '__builtins__', '_ih', '_oh', '_dh', '_sh', 'In', 'Out', 'get_ipython', 'exit', 'quit', '_', '__', '___', '_i', '_ii', '_iii', '_i1', 'mymethod', '_i2', '_2', '_i3', '_i4', 'b', '_i5', '_i6', '_i7', '_i8', '_i9', 'c', '_i10', '_i11', '_i12', '_i13', '_i14', '_i15', '_i16', 'mymethod2', '_i17', '_i18', '_i19', '_i20', 'g', '_20', '_i21', '_21', '_i22', '_i23', 'k', '_i24', '_i25', '_i26'])}\n",
      "Key get_ipython\n",
      "Value <bound method InteractiveShell.get_ipython of <ipykernel.zmqshell.ZMQInteractiveShell object at 0x105573550>>\n",
      "Key exit\n",
      "Value <IPython.core.autocall.ZMQExitAutocall object at 0x1055c47f0>\n",
      "Key quit\n",
      "Value <IPython.core.autocall.ZMQExitAutocall object at 0x1055c47f0>\n",
      "Key _\n",
      "Value dict_keys(['__name__', '__doc__', '__package__', '__loader__', '__spec__', '__builtin__', '__builtins__', '_ih', '_oh', '_dh', '_sh', 'In', 'Out', 'get_ipython', 'exit', 'quit', '_', '__', '___', '_i', '_ii', '_iii', '_i1', 'mymethod', '_i2', '_2', '_i3', '_i4', 'b', '_i5', '_i6', '_i7', '_i8', '_i9', 'c', '_i10', '_i11', '_i12', '_i13', '_i14', '_i15', '_i16', 'mymethod2', '_i17', '_i18', '_i19', '_i20', 'g', '_20', '_i21', '_21', '_i22', '_i23', 'k', '_i24', '_i25', '_i26'])\n",
      "Key __\n",
      "Value dict_keys(['__name__', '__doc__', '__package__', '__loader__', '__spec__', '__builtin__', '__builtins__', '_ih', '_oh', '_dh', '_sh', 'In', 'Out', 'get_ipython', 'exit', 'quit', '_', '__', '___', '_i', '_ii', '_iii', '_i1', 'mymethod', '_i2', '_2', '_i3', '_i4', 'b', '_i5', '_i6', '_i7', '_i8', '_i9', 'c', '_i10', '_i11', '_i12', '_i13', '_i14', '_i15', '_i16', 'mymethod2', '_i17', '_i18', '_i19', '_i20', 'g', '_20', '_i21', '_21', '_i22', '_i23', 'k', '_i24', '_i25', '_i26'])\n",
      "Key ___\n",
      "Value [7, 6]\n",
      "Key _i\n",
      "Value g = globals()\n",
      "for k in g.keys():\n",
      "    print(\"Key \"+k)\n",
      "    print(\"Value \"+g[k])\n",
      "Key _ii\n",
      "Value g = globals()\n",
      "for k in g.keys():\n",
      "    print(k)\n",
      "    print(g[k])\n",
      "Key _iii\n",
      "Value g = globals()\n",
      "for k in g.keys():\n",
      "    print(k+str(g[k]))\n",
      "Key _i1\n",
      "Value def mymethod():\n",
      "    a = [5,7,6]\n",
      "    del(a[0])\n",
      "    return a\n",
      "Key mymethod\n",
      "Value <function mymethod at 0x10571f488>\n",
      "Key _i2\n",
      "Value def mymethod():\n",
      "    a = [5,7,6]\n",
      "    del(a[0])\n",
      "    return a\n",
      "\n",
      "mymethod()\n",
      "Key _2\n",
      "Value [7, 6]\n",
      "Key _i3\n",
      "Value def mymethod():\n",
      "    a = [5,7,6]\n",
      "    del(a[0])\n",
      "    return a\n",
      "\n",
      "print(mymethod())\n",
      "Key _i4\n",
      "Value def mymethod():\n",
      "    a = [5,7,6]\n",
      "    del(a[0])\n",
      "    return a\n",
      "\n",
      "b = mymethod()\n",
      "print(b)\n",
      "\n",
      "print(a)\n",
      "Key b\n",
      "Value [7, 6]\n",
      "Key _i5\n",
      "Value def mymethod():\n",
      "    a = [5,7,6]\n",
      "    del(a[0])\n",
      "    print(a)\n",
      "    return a\n",
      "\n",
      "b = mymethod()\n",
      "print(b)\n",
      "\n",
      "print(a)\n",
      "Key _i6\n",
      "Value def mymethod():\n",
      "    a = [5,7,6]\n",
      "    \n",
      "    print(a)\n",
      "    del(a[0])\n",
      "    #can i create a variable called del?\n",
      "    del = 7\n",
      "    return a\n",
      "\n",
      "b = mymethod()\n",
      "print(b)\n",
      "\n",
      "print(a)\n",
      "Key _i7\n",
      "Value def mymethod():\n",
      "    a = [5,7,6]\n",
      "    \n",
      "    print(a)\n",
      "    del(a[0])\n",
      "    #can i create a variable called del? Uncomment the following line to find out\n",
      "    # del = 7\n",
      "    return a\n",
      "\n",
      "b = mymethod()\n",
      "print(b)\n",
      "\n",
      "print(a)\n",
      "Key _i8\n",
      "Value def mymethod():\n",
      "    a = [5,7,6]\n",
      "    # a is in the current scope\n",
      "    print(a)\n",
      "    del(a[0])\n",
      "    #can i create a variable called del? Uncomment the following line to find out\n",
      "    # del = 7\n",
      "    return a\n",
      "\n",
      "b = mymethod()\n",
      "# b is in the current scope\n",
      "print(b)\n",
      "# a is not in the current scope\n",
      "print(a)\n",
      "Key _i9\n",
      "Value def mymethod():\n",
      "    a = [5,7,6]\n",
      "    # a is in the current scope\n",
      "    print(a)\n",
      "    del(a[0])\n",
      "    #can i create a variable called del? Uncomment the following line to find out\n",
      "    # del = 7\n",
      "    #will c be available here\n",
      "    print(c)\n",
      "    return a\n",
      "\n",
      "c = 'a new variable'\n",
      "# c is in the current scope\n",
      "print(c)\n",
      "b = mymethod()\n",
      "# b is in the current scope\n",
      "print(b)\n",
      "# a is not in the current scope\n",
      "print(a)\n",
      "Key c\n",
      "Value a new variable\n",
      "Key _i10\n",
      "Value def mymethod():\n",
      "    a = [5,7,6]\n",
      "    # a is in the current scope\n",
      "    print(a)\n",
      "    del(a[0])\n",
      "    #can i create a variable called del? Uncomment the following line to find out\n",
      "    # del = 7\n",
      "    #will c be available here?\n",
      "    print(c)\n",
      "    return a\n",
      "\n",
      "c = 'a new variable'\n",
      "# c is in the current scope\n",
      "print(c)\n",
      "b = mymethod()\n",
      "# b is in the current scope\n",
      "print(b)\n",
      "# a is not in the current scope\n",
      "print(a)\n",
      "Key _i11\n",
      "Value def mymethod():\n",
      "    a = 7\n",
      "    b = ['a','l']\n",
      "    print(locals())\n",
      "Key _i12\n",
      "Value def mymethod():\n",
      "    a = 7\n",
      "    b = ['a','l']\n",
      "    print(locals())\n",
      "\n",
      "mymethod()\n",
      "Key _i13\n",
      "Value def mymethod():\n",
      "    a = 7\n",
      "    b = [4,7]\n",
      "    print(locals())\n",
      "\n",
      "mymethod()\n",
      "Key _i14\n",
      "Value def mymethod():\n",
      "    a = 7\n",
      "    b = [4,7]\n",
      "    print(locals())\n",
      "\n",
      "mymethod()\n",
      "print(globals())\n",
      "Key _i15\n",
      "Value def mymethod():\n",
      "    a = 7\n",
      "    b = [4,7]\n",
      "    print(locals())\n",
      "\n",
      "mymethod()\n",
      "print(globals())\n",
      "Key _i16\n",
      "Value def mymethod2():\n",
      "    a = 7\n",
      "    b = [4,7]\n",
      "    print(locals())\n",
      "\n",
      "mymethod2()\n",
      "print(globals())\n",
      "Key mymethod2\n",
      "Value <function mymethod2 at 0x105719e18>\n",
      "Key _i17\n",
      "Value def mymethod2():\n",
      "    a = 7\n",
      "    b = [4,7]\n",
      "    print(locals())\n",
      "\n",
      "mymethod2()\n",
      "print(globals())\n",
      "print(a)\n",
      "Key _i18\n",
      "Value def mymethod2():\n",
      "    a = 7\n",
      "    b = [4,7]\n",
      "    print(locals())\n",
      "\n",
      "mymethod2()\n",
      "print(globals())\n",
      "print(globals()['a'])\n",
      "Key _i19\n",
      "Value def mymethod2():\n",
      "    a = 7\n",
      "    b = [4,7]\n",
      "    print(locals())\n",
      "\n",
      "mymethod2()\n",
      "#print(globals())\n",
      "print(globals()['a'])\n",
      "Key _i20\n",
      "Value g = globals()\n",
      "g.keys()\n",
      "Key g\n",
      "Value {'__name__': '__main__', '__doc__': 'Automatically created module for IPython interactive environment', '__package__': None, '__loader__': None, '__spec__': None, '__builtin__': <module 'builtins' (built-in)>, '__builtins__': <module 'builtins' (built-in)>, '_ih': ['', 'def mymethod():\\n    a = [5,7,6]\\n    del(a[0])\\n    return a', 'def mymethod():\\n    a = [5,7,6]\\n    del(a[0])\\n    return a\\n\\nmymethod()', 'def mymethod():\\n    a = [5,7,6]\\n    del(a[0])\\n    return a\\n\\nprint(mymethod())', 'def mymethod():\\n    a = [5,7,6]\\n    del(a[0])\\n    return a\\n\\nb = mymethod()\\nprint(b)\\n\\nprint(a)', 'def mymethod():\\n    a = [5,7,6]\\n    del(a[0])\\n    print(a)\\n    return a\\n\\nb = mymethod()\\nprint(b)\\n\\nprint(a)', 'def mymethod():\\n    a = [5,7,6]\\n    \\n    print(a)\\n    del(a[0])\\n    #can i create a variable called del?\\n    del = 7\\n    return a\\n\\nb = mymethod()\\nprint(b)\\n\\nprint(a)', 'def mymethod():\\n    a = [5,7,6]\\n    \\n    print(a)\\n    del(a[0])\\n    #can i create a variable called del? Uncomment the following line to find out\\n    # del = 7\\n    return a\\n\\nb = mymethod()\\nprint(b)\\n\\nprint(a)', 'def mymethod():\\n    a = [5,7,6]\\n    # a is in the current scope\\n    print(a)\\n    del(a[0])\\n    #can i create a variable called del? Uncomment the following line to find out\\n    # del = 7\\n    return a\\n\\nb = mymethod()\\n# b is in the current scope\\nprint(b)\\n# a is not in the current scope\\nprint(a)', \"def mymethod():\\n    a = [5,7,6]\\n    # a is in the current scope\\n    print(a)\\n    del(a[0])\\n    #can i create a variable called del? Uncomment the following line to find out\\n    # del = 7\\n    #will c be available here\\n    print(c)\\n    return a\\n\\nc = 'a new variable'\\n# c is in the current scope\\nprint(c)\\nb = mymethod()\\n# b is in the current scope\\nprint(b)\\n# a is not in the current scope\\nprint(a)\", \"def mymethod():\\n    a = [5,7,6]\\n    # a is in the current scope\\n    print(a)\\n    del(a[0])\\n    #can i create a variable called del? Uncomment the following line to find out\\n    # del = 7\\n    #will c be available here?\\n    print(c)\\n    return a\\n\\nc = 'a new variable'\\n# c is in the current scope\\nprint(c)\\nb = mymethod()\\n# b is in the current scope\\nprint(b)\\n# a is not in the current scope\\nprint(a)\", \"def mymethod():\\n    a = 7\\n    b = ['a','l']\\n    print(locals())\", \"def mymethod():\\n    a = 7\\n    b = ['a','l']\\n    print(locals())\\n\\nmymethod()\", 'def mymethod():\\n    a = 7\\n    b = [4,7]\\n    print(locals())\\n\\nmymethod()', 'def mymethod():\\n    a = 7\\n    b = [4,7]\\n    print(locals())\\n\\nmymethod()\\nprint(globals())', 'def mymethod():\\n    a = 7\\n    b = [4,7]\\n    print(locals())\\n\\nmymethod()\\nprint(globals())', 'def mymethod2():\\n    a = 7\\n    b = [4,7]\\n    print(locals())\\n\\nmymethod2()\\nprint(globals())', 'def mymethod2():\\n    a = 7\\n    b = [4,7]\\n    print(locals())\\n\\nmymethod2()\\nprint(globals())\\nprint(a)', \"def mymethod2():\\n    a = 7\\n    b = [4,7]\\n    print(locals())\\n\\nmymethod2()\\nprint(globals())\\nprint(globals()['a'])\", \"def mymethod2():\\n    a = 7\\n    b = [4,7]\\n    print(locals())\\n\\nmymethod2()\\n#print(globals())\\nprint(globals()['a'])\", 'g = globals()\\ng.keys()', 'g = globals()\\ng.keys()', 'g = globals()\\nprint(g)', 'g = globals()\\nfor k in g.keys():\\n    print(k+str(g[k]))', 'g = globals()\\nfor k in g.keys():\\n    print(k)\\n    print(g[k])', 'g = globals()\\nfor k in g.keys():\\n    print(\"Key \"+k)\\n    print(\"Value \"+g[k])', 'g = globals()\\nfor k in g.keys():\\n    print(\"Key \"+k)\\n    print(\"Value \"+str(g[k]))'], '_oh': {2: [7, 6], 20: dict_keys(['__name__', '__doc__', '__package__', '__loader__', '__spec__', '__builtin__', '__builtins__', '_ih', '_oh', '_dh', '_sh', 'In', 'Out', 'get_ipython', 'exit', 'quit', '_', '__', '___', '_i', '_ii', '_iii', '_i1', 'mymethod', '_i2', '_2', '_i3', '_i4', 'b', '_i5', '_i6', '_i7', '_i8', '_i9', 'c', '_i10', '_i11', '_i12', '_i13', '_i14', '_i15', '_i16', 'mymethod2', '_i17', '_i18', '_i19', '_i20', 'g', '_20', '_i21', '_21', '_i22', '_i23', 'k', '_i24', '_i25', '_i26']), 21: dict_keys(['__name__', '__doc__', '__package__', '__loader__', '__spec__', '__builtin__', '__builtins__', '_ih', '_oh', '_dh', '_sh', 'In', 'Out', 'get_ipython', 'exit', 'quit', '_', '__', '___', '_i', '_ii', '_iii', '_i1', 'mymethod', '_i2', '_2', '_i3', '_i4', 'b', '_i5', '_i6', '_i7', '_i8', '_i9', 'c', '_i10', '_i11', '_i12', '_i13', '_i14', '_i15', '_i16', 'mymethod2', '_i17', '_i18', '_i19', '_i20', 'g', '_20', '_i21', '_21', '_i22', '_i23', 'k', '_i24', '_i25', '_i26'])}, '_dh': ['/Users/chandola/Teaching/eascourse/website/eas503ubcourse/notebooks'], '_sh': <module 'IPython.core.shadowns' from '/Users/chandola/anaconda/lib/python3.6/site-packages/IPython/core/shadowns.py'>, 'In': ['', 'def mymethod():\\n    a = [5,7,6]\\n    del(a[0])\\n    return a', 'def mymethod():\\n    a = [5,7,6]\\n    del(a[0])\\n    return a\\n\\nmymethod()', 'def mymethod():\\n    a = [5,7,6]\\n    del(a[0])\\n    return a\\n\\nprint(mymethod())', 'def mymethod():\\n    a = [5,7,6]\\n    del(a[0])\\n    return a\\n\\nb = mymethod()\\nprint(b)\\n\\nprint(a)', 'def mymethod():\\n    a = [5,7,6]\\n    del(a[0])\\n    print(a)\\n    return a\\n\\nb = mymethod()\\nprint(b)\\n\\nprint(a)', 'def mymethod():\\n    a = [5,7,6]\\n    \\n    print(a)\\n    del(a[0])\\n    #can i create a variable called del?\\n    del = 7\\n    return a\\n\\nb = mymethod()\\nprint(b)\\n\\nprint(a)', 'def mymethod():\\n    a = [5,7,6]\\n    \\n    print(a)\\n    del(a[0])\\n    #can i create a variable called del? Uncomment the following line to find out\\n    # del = 7\\n    return a\\n\\nb = mymethod()\\nprint(b)\\n\\nprint(a)', 'def mymethod():\\n    a = [5,7,6]\\n    # a is in the current scope\\n    print(a)\\n    del(a[0])\\n    #can i create a variable called del? Uncomment the following line to find out\\n    # del = 7\\n    return a\\n\\nb = mymethod()\\n# b is in the current scope\\nprint(b)\\n# a is not in the current scope\\nprint(a)', \"def mymethod():\\n    a = [5,7,6]\\n    # a is in the current scope\\n    print(a)\\n    del(a[0])\\n    #can i create a variable called del? Uncomment the following line to find out\\n    # del = 7\\n    #will c be available here\\n    print(c)\\n    return a\\n\\nc = 'a new variable'\\n# c is in the current scope\\nprint(c)\\nb = mymethod()\\n# b is in the current scope\\nprint(b)\\n# a is not in the current scope\\nprint(a)\", \"def mymethod():\\n    a = [5,7,6]\\n    # a is in the current scope\\n    print(a)\\n    del(a[0])\\n    #can i create a variable called del? Uncomment the following line to find out\\n    # del = 7\\n    #will c be available here?\\n    print(c)\\n    return a\\n\\nc = 'a new variable'\\n# c is in the current scope\\nprint(c)\\nb = mymethod()\\n# b is in the current scope\\nprint(b)\\n# a is not in the current scope\\nprint(a)\", \"def mymethod():\\n    a = 7\\n    b = ['a','l']\\n    print(locals())\", \"def mymethod():\\n    a = 7\\n    b = ['a','l']\\n    print(locals())\\n\\nmymethod()\", 'def mymethod():\\n    a = 7\\n    b = [4,7]\\n    print(locals())\\n\\nmymethod()', 'def mymethod():\\n    a = 7\\n    b = [4,7]\\n    print(locals())\\n\\nmymethod()\\nprint(globals())', 'def mymethod():\\n    a = 7\\n    b = [4,7]\\n    print(locals())\\n\\nmymethod()\\nprint(globals())', 'def mymethod2():\\n    a = 7\\n    b = [4,7]\\n    print(locals())\\n\\nmymethod2()\\nprint(globals())', 'def mymethod2():\\n    a = 7\\n    b = [4,7]\\n    print(locals())\\n\\nmymethod2()\\nprint(globals())\\nprint(a)', \"def mymethod2():\\n    a = 7\\n    b = [4,7]\\n    print(locals())\\n\\nmymethod2()\\nprint(globals())\\nprint(globals()['a'])\", \"def mymethod2():\\n    a = 7\\n    b = [4,7]\\n    print(locals())\\n\\nmymethod2()\\n#print(globals())\\nprint(globals()['a'])\", 'g = globals()\\ng.keys()', 'g = globals()\\ng.keys()', 'g = globals()\\nprint(g)', 'g = globals()\\nfor k in g.keys():\\n    print(k+str(g[k]))', 'g = globals()\\nfor k in g.keys():\\n    print(k)\\n    print(g[k])', 'g = globals()\\nfor k in g.keys():\\n    print(\"Key \"+k)\\n    print(\"Value \"+g[k])', 'g = globals()\\nfor k in g.keys():\\n    print(\"Key \"+k)\\n    print(\"Value \"+str(g[k]))'], 'Out': {2: [7, 6], 20: dict_keys(['__name__', '__doc__', '__package__', '__loader__', '__spec__', '__builtin__', '__builtins__', '_ih', '_oh', '_dh', '_sh', 'In', 'Out', 'get_ipython', 'exit', 'quit', '_', '__', '___', '_i', '_ii', '_iii', '_i1', 'mymethod', '_i2', '_2', '_i3', '_i4', 'b', '_i5', '_i6', '_i7', '_i8', '_i9', 'c', '_i10', '_i11', '_i12', '_i13', '_i14', '_i15', '_i16', 'mymethod2', '_i17', '_i18', '_i19', '_i20', 'g', '_20', '_i21', '_21', '_i22', '_i23', 'k', '_i24', '_i25', '_i26']), 21: dict_keys(['__name__', '__doc__', '__package__', '__loader__', '__spec__', '__builtin__', '__builtins__', '_ih', '_oh', '_dh', '_sh', 'In', 'Out', 'get_ipython', 'exit', 'quit', '_', '__', '___', '_i', '_ii', '_iii', '_i1', 'mymethod', '_i2', '_2', '_i3', '_i4', 'b', '_i5', '_i6', '_i7', '_i8', '_i9', 'c', '_i10', '_i11', '_i12', '_i13', '_i14', '_i15', '_i16', 'mymethod2', '_i17', '_i18', '_i19', '_i20', 'g', '_20', '_i21', '_21', '_i22', '_i23', 'k', '_i24', '_i25', '_i26'])}, 'get_ipython': <bound method InteractiveShell.get_ipython of <ipykernel.zmqshell.ZMQInteractiveShell object at 0x105573550>>, 'exit': <IPython.core.autocall.ZMQExitAutocall object at 0x1055c47f0>, 'quit': <IPython.core.autocall.ZMQExitAutocall object at 0x1055c47f0>, '_': dict_keys(['__name__', '__doc__', '__package__', '__loader__', '__spec__', '__builtin__', '__builtins__', '_ih', '_oh', '_dh', '_sh', 'In', 'Out', 'get_ipython', 'exit', 'quit', '_', '__', '___', '_i', '_ii', '_iii', '_i1', 'mymethod', '_i2', '_2', '_i3', '_i4', 'b', '_i5', '_i6', '_i7', '_i8', '_i9', 'c', '_i10', '_i11', '_i12', '_i13', '_i14', '_i15', '_i16', 'mymethod2', '_i17', '_i18', '_i19', '_i20', 'g', '_20', '_i21', '_21', '_i22', '_i23', 'k', '_i24', '_i25', '_i26']), '__': dict_keys(['__name__', '__doc__', '__package__', '__loader__', '__spec__', '__builtin__', '__builtins__', '_ih', '_oh', '_dh', '_sh', 'In', 'Out', 'get_ipython', 'exit', 'quit', '_', '__', '___', '_i', '_ii', '_iii', '_i1', 'mymethod', '_i2', '_2', '_i3', '_i4', 'b', '_i5', '_i6', '_i7', '_i8', '_i9', 'c', '_i10', '_i11', '_i12', '_i13', '_i14', '_i15', '_i16', 'mymethod2', '_i17', '_i18', '_i19', '_i20', 'g', '_20', '_i21', '_21', '_i22', '_i23', 'k', '_i24', '_i25', '_i26']), '___': [7, 6], '_i': 'g = globals()\\nfor k in g.keys():\\n    print(\"Key \"+k)\\n    print(\"Value \"+g[k])', '_ii': 'g = globals()\\nfor k in g.keys():\\n    print(k)\\n    print(g[k])', '_iii': 'g = globals()\\nfor k in g.keys():\\n    print(k+str(g[k]))', '_i1': 'def mymethod():\\n    a = [5,7,6]\\n    del(a[0])\\n    return a', 'mymethod': <function mymethod at 0x10571f488>, '_i2': 'def mymethod():\\n    a = [5,7,6]\\n    del(a[0])\\n    return a\\n\\nmymethod()', '_2': [7, 6], '_i3': 'def mymethod():\\n    a = [5,7,6]\\n    del(a[0])\\n    return a\\n\\nprint(mymethod())', '_i4': 'def mymethod():\\n    a = [5,7,6]\\n    del(a[0])\\n    return a\\n\\nb = mymethod()\\nprint(b)\\n\\nprint(a)', 'b': [7, 6], '_i5': 'def mymethod():\\n    a = [5,7,6]\\n    del(a[0])\\n    print(a)\\n    return a\\n\\nb = mymethod()\\nprint(b)\\n\\nprint(a)', '_i6': 'def mymethod():\\n    a = [5,7,6]\\n    \\n    print(a)\\n    del(a[0])\\n    #can i create a variable called del?\\n    del = 7\\n    return a\\n\\nb = mymethod()\\nprint(b)\\n\\nprint(a)', '_i7': 'def mymethod():\\n    a = [5,7,6]\\n    \\n    print(a)\\n    del(a[0])\\n    #can i create a variable called del? Uncomment the following line to find out\\n    # del = 7\\n    return a\\n\\nb = mymethod()\\nprint(b)\\n\\nprint(a)', '_i8': 'def mymethod():\\n    a = [5,7,6]\\n    # a is in the current scope\\n    print(a)\\n    del(a[0])\\n    #can i create a variable called del? Uncomment the following line to find out\\n    # del = 7\\n    return a\\n\\nb = mymethod()\\n# b is in the current scope\\nprint(b)\\n# a is not in the current scope\\nprint(a)', '_i9': \"def mymethod():\\n    a = [5,7,6]\\n    # a is in the current scope\\n    print(a)\\n    del(a[0])\\n    #can i create a variable called del? Uncomment the following line to find out\\n    # del = 7\\n    #will c be available here\\n    print(c)\\n    return a\\n\\nc = 'a new variable'\\n# c is in the current scope\\nprint(c)\\nb = mymethod()\\n# b is in the current scope\\nprint(b)\\n# a is not in the current scope\\nprint(a)\", 'c': 'a new variable', '_i10': \"def mymethod():\\n    a = [5,7,6]\\n    # a is in the current scope\\n    print(a)\\n    del(a[0])\\n    #can i create a variable called del? Uncomment the following line to find out\\n    # del = 7\\n    #will c be available here?\\n    print(c)\\n    return a\\n\\nc = 'a new variable'\\n# c is in the current scope\\nprint(c)\\nb = mymethod()\\n# b is in the current scope\\nprint(b)\\n# a is not in the current scope\\nprint(a)\", '_i11': \"def mymethod():\\n    a = 7\\n    b = ['a','l']\\n    print(locals())\", '_i12': \"def mymethod():\\n    a = 7\\n    b = ['a','l']\\n    print(locals())\\n\\nmymethod()\", '_i13': 'def mymethod():\\n    a = 7\\n    b = [4,7]\\n    print(locals())\\n\\nmymethod()', '_i14': 'def mymethod():\\n    a = 7\\n    b = [4,7]\\n    print(locals())\\n\\nmymethod()\\nprint(globals())', '_i15': 'def mymethod():\\n    a = 7\\n    b = [4,7]\\n    print(locals())\\n\\nmymethod()\\nprint(globals())', '_i16': 'def mymethod2():\\n    a = 7\\n    b = [4,7]\\n    print(locals())\\n\\nmymethod2()\\nprint(globals())', 'mymethod2': <function mymethod2 at 0x105719e18>, '_i17': 'def mymethod2():\\n    a = 7\\n    b = [4,7]\\n    print(locals())\\n\\nmymethod2()\\nprint(globals())\\nprint(a)', '_i18': \"def mymethod2():\\n    a = 7\\n    b = [4,7]\\n    print(locals())\\n\\nmymethod2()\\nprint(globals())\\nprint(globals()['a'])\", '_i19': \"def mymethod2():\\n    a = 7\\n    b = [4,7]\\n    print(locals())\\n\\nmymethod2()\\n#print(globals())\\nprint(globals()['a'])\", '_i20': 'g = globals()\\ng.keys()', 'g': {...}, '_20': dict_keys(['__name__', '__doc__', '__package__', '__loader__', '__spec__', '__builtin__', '__builtins__', '_ih', '_oh', '_dh', '_sh', 'In', 'Out', 'get_ipython', 'exit', 'quit', '_', '__', '___', '_i', '_ii', '_iii', '_i1', 'mymethod', '_i2', '_2', '_i3', '_i4', 'b', '_i5', '_i6', '_i7', '_i8', '_i9', 'c', '_i10', '_i11', '_i12', '_i13', '_i14', '_i15', '_i16', 'mymethod2', '_i17', '_i18', '_i19', '_i20', 'g', '_20', '_i21', '_21', '_i22', '_i23', 'k', '_i24', '_i25', '_i26']), '_i21': 'g = globals()\\ng.keys()', '_21': dict_keys(['__name__', '__doc__', '__package__', '__loader__', '__spec__', '__builtin__', '__builtins__', '_ih', '_oh', '_dh', '_sh', 'In', 'Out', 'get_ipython', 'exit', 'quit', '_', '__', '___', '_i', '_ii', '_iii', '_i1', 'mymethod', '_i2', '_2', '_i3', '_i4', 'b', '_i5', '_i6', '_i7', '_i8', '_i9', 'c', '_i10', '_i11', '_i12', '_i13', '_i14', '_i15', '_i16', 'mymethod2', '_i17', '_i18', '_i19', '_i20', 'g', '_20', '_i21', '_21', '_i22', '_i23', 'k', '_i24', '_i25', '_i26']), '_i22': 'g = globals()\\nprint(g)', '_i23': 'g = globals()\\nfor k in g.keys():\\n    print(k+str(g[k]))', 'k': 'g', '_i24': 'g = globals()\\nfor k in g.keys():\\n    print(k)\\n    print(g[k])', '_i25': 'g = globals()\\nfor k in g.keys():\\n    print(\"Key \"+k)\\n    print(\"Value \"+g[k])', '_i26': 'g = globals()\\nfor k in g.keys():\\n    print(\"Key \"+k)\\n    print(\"Value \"+str(g[k]))'}\n",
      "Key _20\n",
      "Value dict_keys(['__name__', '__doc__', '__package__', '__loader__', '__spec__', '__builtin__', '__builtins__', '_ih', '_oh', '_dh', '_sh', 'In', 'Out', 'get_ipython', 'exit', 'quit', '_', '__', '___', '_i', '_ii', '_iii', '_i1', 'mymethod', '_i2', '_2', '_i3', '_i4', 'b', '_i5', '_i6', '_i7', '_i8', '_i9', 'c', '_i10', '_i11', '_i12', '_i13', '_i14', '_i15', '_i16', 'mymethod2', '_i17', '_i18', '_i19', '_i20', 'g', '_20', '_i21', '_21', '_i22', '_i23', 'k', '_i24', '_i25', '_i26'])\n",
      "Key _i21\n",
      "Value g = globals()\n",
      "g.keys()\n",
      "Key _21\n",
      "Value dict_keys(['__name__', '__doc__', '__package__', '__loader__', '__spec__', '__builtin__', '__builtins__', '_ih', '_oh', '_dh', '_sh', 'In', 'Out', 'get_ipython', 'exit', 'quit', '_', '__', '___', '_i', '_ii', '_iii', '_i1', 'mymethod', '_i2', '_2', '_i3', '_i4', 'b', '_i5', '_i6', '_i7', '_i8', '_i9', 'c', '_i10', '_i11', '_i12', '_i13', '_i14', '_i15', '_i16', 'mymethod2', '_i17', '_i18', '_i19', '_i20', 'g', '_20', '_i21', '_21', '_i22', '_i23', 'k', '_i24', '_i25', '_i26'])\n",
      "Key _i22\n",
      "Value g = globals()\n",
      "print(g)\n",
      "Key _i23\n",
      "Value g = globals()\n",
      "for k in g.keys():\n",
      "    print(k+str(g[k]))\n",
      "Key k\n",
      "Value k\n",
      "Key _i24\n",
      "Value g = globals()\n",
      "for k in g.keys():\n",
      "    print(k)\n",
      "    print(g[k])\n",
      "Key _i25\n",
      "Value g = globals()\n",
      "for k in g.keys():\n",
      "    print(\"Key \"+k)\n",
      "    print(\"Value \"+g[k])\n",
      "Key _i26\n",
      "Value g = globals()\n",
      "for k in g.keys():\n",
      "    print(\"Key \"+k)\n",
      "    print(\"Value \"+str(g[k]))\n"
     ]
    }
   ],
   "source": [
    "g = globals()\n",
    "for k in g.keys():\n",
    "    print(\"Key \"+k)\n",
    "    print(\"Value \"+str(g[k]))"
   ]
  },
  {
   "cell_type": "code",
   "execution_count": 167,
   "metadata": {
    "collapsed": false
   },
   "outputs": [
    {
     "name": "stdout",
     "output_type": "stream",
     "text": [
      "1\n",
      "2\n"
     ]
    }
   ],
   "source": [
    "# here is something mysterious!!!\n",
    "def mymethod():\n",
    "    x = 1\n",
    "    l = locals()\n",
    "    l['x'] = 2\n",
    "    print(x)\n",
    "    \n",
    "mymethod()\n",
    "y = 3\n",
    "g = globals()\n",
    "g['y'] = 2\n",
    "print(y)"
   ]
  },
  {
   "cell_type": "markdown",
   "metadata": {},
   "source": [
    "It seems that while the `local` namespace is read-only, the `global` namespace can be modified. You can certainly delete entries from both the local and global namespaces, that is what the inbuilt function `del` does."
   ]
  },
  {
   "cell_type": "code",
   "execution_count": null,
   "metadata": {
    "collapsed": true
   },
   "outputs": [],
   "source": [
    "#see examples with caller.py and newroutines.py"
   ]
  },
  {
   "cell_type": "markdown",
   "metadata": {},
   "source": [
    "## Inheritance in Python\n",
    "Ability to define subclasses. \n",
    "\n",
    "Let us assume that we want to have defined a class called `Employee` that has some information about a bank employee and some supporting methods."
   ]
  },
  {
   "cell_type": "code",
   "execution_count": 179,
   "metadata": {
    "collapsed": true
   },
   "outputs": [],
   "source": [
    "class Employee:\n",
    "    def __init__(self,firstname,lastname,empid):\n",
    "        self.__firstname = firstname\n",
    "        self.__lastname = lastname\n",
    "        self.__empid = empid\n",
    "    \n",
    "    # following is a special function used by the Python in-built print() function\n",
    "    def __str__(self):\n",
    "        return \"Employee name is \"+self.__firstname+\" \"+self.__lastname\n",
    "    \n",
    "    def checkid(self,inputid):\n",
    "        if inputid == self.__empid:\n",
    "            return True\n",
    "        else:\n",
    "            return False\n",
    "    \n",
    "    def getfirstname(self):\n",
    "        return self.__firstname\n",
    "    \n",
    "    def getlastname(self):\n",
    "        return self.__lastname\n",
    "   "
   ]
  },
  {
   "cell_type": "code",
   "execution_count": 172,
   "metadata": {
    "collapsed": false
   },
   "outputs": [
    {
     "name": "stdout",
     "output_type": "stream",
     "text": [
      "Employee name is Homer Simpson\n"
     ]
    }
   ],
   "source": [
    "emp1 = Employee(\"Homer\",\"Simpson\",777)\n",
    "print(emp1)"
   ]
  },
  {
   "cell_type": "code",
   "execution_count": 173,
   "metadata": {
    "collapsed": false
   },
   "outputs": [
    {
     "name": "stdout",
     "output_type": "stream",
     "text": [
      "True\n"
     ]
    }
   ],
   "source": [
    "print(emp1.checkid(777))"
   ]
  },
  {
   "cell_type": "markdown",
   "metadata": {},
   "source": [
    "Now we want to create a new class called `Manager` which retains some properties of an `Employee` buts add some more"
   ]
  },
  {
   "cell_type": "code",
   "execution_count": 73,
   "metadata": {
    "collapsed": true
   },
   "outputs": [],
   "source": [
    "class Manager(Employee):\n",
    "    def __init__(self,firstname,lastname,empid):\n",
    "        super().__init__(firstname,lastname,empid)"
   ]
  },
  {
   "cell_type": "code",
   "execution_count": 75,
   "metadata": {
    "collapsed": false
   },
   "outputs": [
    {
     "name": "stdout",
     "output_type": "stream",
     "text": [
      "Employee name is Charles Burns\n"
     ]
    }
   ],
   "source": [
    "mng1 = Manager(\"Charles\",\"Burns\",666)\n",
    "print(mng1)"
   ]
  },
  {
   "cell_type": "markdown",
   "metadata": {},
   "source": [
    "But we want to add extra fields and set them in the constructor"
   ]
  },
  {
   "cell_type": "code",
   "execution_count": 176,
   "metadata": {
    "collapsed": true
   },
   "outputs": [],
   "source": [
    "class Manager(Employee):\n",
    "    def __init__(self,firstname,lastname,empid,managerid):\n",
    "        super().__init__(firstname,lastname,empid)\n",
    "        self.__managerid = managerid\n",
    "    \n",
    "    def checkmanagerid(self,inputid):\n",
    "        if inputid == self.__managerid:\n",
    "            return True\n",
    "        else:\n",
    "            return False"
   ]
  },
  {
   "cell_type": "code",
   "execution_count": 177,
   "metadata": {
    "collapsed": false
   },
   "outputs": [
    {
     "name": "stdout",
     "output_type": "stream",
     "text": [
      "Employee name is Charles Burns\n"
     ]
    }
   ],
   "source": [
    "mng1 = Manager(\"Charles\",\"Burns\",666,111)\n",
    "print(mng1)"
   ]
  },
  {
   "cell_type": "code",
   "execution_count": 85,
   "metadata": {
    "collapsed": false
   },
   "outputs": [
    {
     "data": {
      "text/plain": [
       "True"
      ]
     },
     "execution_count": 85,
     "metadata": {},
     "output_type": "execute_result"
    }
   ],
   "source": [
    "mng1.checkid(666)"
   ]
  },
  {
   "cell_type": "code",
   "execution_count": 86,
   "metadata": {
    "collapsed": false
   },
   "outputs": [
    {
     "data": {
      "text/plain": [
       "True"
      ]
     },
     "execution_count": 86,
     "metadata": {},
     "output_type": "execute_result"
    }
   ],
   "source": [
    "mng1.checkmanagerid(111)"
   ]
  },
  {
   "cell_type": "markdown",
   "metadata": {},
   "source": [
    "You can modify methods of base classes"
   ]
  },
  {
   "cell_type": "code",
   "execution_count": 180,
   "metadata": {
    "collapsed": false
   },
   "outputs": [],
   "source": [
    "class Manager(Employee):\n",
    "    def __init__(self,firstname,lastname,empid,managerid):\n",
    "        super().__init__(firstname,lastname,empid)\n",
    "        self.__managerid = managerid\n",
    "    \n",
    "    def checkmanagerid(self,inputid):\n",
    "        if inputid == self.__managerid:\n",
    "            return True\n",
    "        else:\n",
    "            return False\n",
    "        \n",
    "    def __str__(self):\n",
    "        # why will the first line not work and the second one will\n",
    "        #return \"Manager name is \"+self.__firstname+\" \"+self.__lastname\n",
    "        return \"Manager name is \"+self.getfirstname()+\" \"+self.getlastname()"
   ]
  },
  {
   "cell_type": "code",
   "execution_count": 181,
   "metadata": {
    "collapsed": false
   },
   "outputs": [
    {
     "name": "stdout",
     "output_type": "stream",
     "text": [
      "Manager name is Charles Burns\n"
     ]
    }
   ],
   "source": [
    "mng1 = Manager(\"Charles\",\"Burns\",666,111)\n",
    "print(mng1)\n"
   ]
  },
  {
   "cell_type": "markdown",
   "metadata": {},
   "source": [
    "**Remember** - Derived classes cannot access private fields of the base class directly\n",
    "\n",
    "### Inheriting from multiple classes\n",
    "Consider a scenario where you have additional class, `Citizen`, that has other information about a person. Can we create a derived class that inherits properties of both `Employee` and `Citizen` class?"
   ]
  },
  {
   "cell_type": "code",
   "execution_count": 182,
   "metadata": {
    "collapsed": true
   },
   "outputs": [],
   "source": [
    "class Citizen:\n",
    "    def __init__(self,ssn,homeaddress):\n",
    "        self.__ssn = ssn\n",
    "        self.__homeaddress = homeaddress\n",
    "    \n",
    "    def __str__(self):\n",
    "        return \"Person located at \"+self.__homeaddress\n",
    "        "
   ]
  },
  {
   "cell_type": "code",
   "execution_count": 183,
   "metadata": {
    "collapsed": false
   },
   "outputs": [
    {
     "name": "stdout",
     "output_type": "stream",
     "text": [
      "Person located at 742 Evergreen Terrace\n"
     ]
    }
   ],
   "source": [
    "ctz1 = Citizen(\"123-45-6789\",\"742 Evergreen Terrace\")\n",
    "print(ctz1)"
   ]
  },
  {
   "cell_type": "code",
   "execution_count": 190,
   "metadata": {
    "collapsed": true
   },
   "outputs": [],
   "source": [
    "# it is easy\n",
    "class Manager2(Employee,Citizen):\n",
    "    def __init__(self,firstname,lastname,empid,managerid,ssn,homeaddress):\n",
    "        Citizen.__init__(self,ssn,homeaddress)\n",
    "        Employee.__init__(self,firstname,lastname,empid)\n",
    "        self.__managerid = managerid\n",
    "    \n",
    "    def __str__(self):\n",
    "        return \"Manager name is \"+Employee.getfirstname(self)+\" \"+Employee.getlastname(self)+\", \"+Citizen.__str__(self)"
   ]
  },
  {
   "cell_type": "code",
   "execution_count": 191,
   "metadata": {
    "collapsed": false
   },
   "outputs": [
    {
     "name": "stdout",
     "output_type": "stream",
     "text": [
      "Manager name is Charles Burns, Person located at 742 Evergreen Terrace\n"
     ]
    }
   ],
   "source": [
    "mgr2 = Manager2(\"Charles\",\"Burns\",666,111,\"123-45-6789\",\"742 Evergreen Terrace\")\n",
    "print(mgr2)"
   ]
  }
 ],
 "metadata": {
  "kernelspec": {
   "display_name": "Python 3",
   "language": "python",
   "name": "python3"
  },
  "language_info": {
   "codemirror_mode": {
    "name": "ipython",
    "version": 3
   },
   "file_extension": ".py",
   "mimetype": "text/x-python",
   "name": "python",
   "nbconvert_exporter": "python",
   "pygments_lexer": "ipython3",
   "version": "3.6.0"
  }
 },
 "nbformat": 4,
 "nbformat_minor": 2
}
